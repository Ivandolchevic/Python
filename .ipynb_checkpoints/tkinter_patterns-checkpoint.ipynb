{
 "cells": [
  {
   "cell_type": "markdown",
   "metadata": {},
   "source": [
    "# Patterns with Ktinter\n",
    "\n",
    "I came across the Ktinter module while looking at a code from making a noughts and crosses game. Ktinder was being used to draw parrellel lines on a square canvas to form the noughts and crosses grid. It occured to me then that the create_line command you could also be used to create artistic patterns. Using a random number gererator inside a for loop."
   ]
  },
  {
   "cell_type": "markdown",
   "metadata": {},
   "source": [
    "## Random lines\n",
    "\n",
    "The following code create a pattern of randomly drawn coloured lines of varying lengths and thicknesses.\n",
    "\n",
    "ktinter is imported and used to create the canvas. A for loop then iterates over the code, which uses Numpy to genertae end points for the lines and a lambda function is used to create random colour code (in hex) which which are plotted using create_line in ktinder.\n"
   ]
  },
  {
   "cell_type": "code",
   "execution_count": null,
   "metadata": {
    "collapsed": false
   },
   "outputs": [],
   "source": [
    "# Random Lines\n",
    "\n",
    "# import the tkinter module and create the canvas\n",
    "from tkinter import *\n",
    "main = Tk()\n",
    "c = Canvas(main, width=600, height=600)\n",
    "c.pack()\n",
    "\n",
    "#import modules to generate random numbers\n",
    "import numpy as np\n",
    "import random\n",
    "\n",
    "# create a for loop \n",
    "for x in range(100) :\n",
    "    #generate random co-ordinates\n",
    "    x1=np.random.randint(0,600)\n",
    "    x2=np.random.randint(0,600)\n",
    "    y1=np.random.randint(0,600)\n",
    "    y2=np.random.randint(0,600)\n",
    "    #generate random value for thickness of the lines\n",
    "    z=np.random.randint(0,15)\n",
    "    #use a lambda function to generate the random colour values\n",
    "    r = lambda: random.randint(0,255)\n",
    "    #generate the col values\n",
    "    col=('#%02X%02X%02X' % (r(),r(),r()))\n",
    "    #plot the lines\n",
    "    c.create_line(x1, y1, x2, y2,width=z, fill=col)\n",
    "\n",
    "print(\"pattern generated\") \n",
    "mainloop()"
   ]
  },
  {
   "cell_type": "markdown",
   "metadata": {},
   "source": [
    "## Random Ovals\n",
    "\n",
    "In addition to create_line there is a create_oval command which works in a very similar way put it create randam ovals between the co-ordinated rather than lines."
   ]
  },
  {
   "cell_type": "code",
   "execution_count": null,
   "metadata": {
    "collapsed": false
   },
   "outputs": [],
   "source": [
    "# Random Lines\n",
    "\n",
    "# import the tkinter module and create the canvas\n",
    "from tkinter import *\n",
    "main = Tk()\n",
    "c = Canvas(main, width=600, height=600)\n",
    "c.pack()\n",
    "\n",
    "#import modules to generate random numbers\n",
    "import numpy as np\n",
    "import random\n",
    "\n",
    "# create a for loop\n",
    "for x in range(100) :\n",
    "    #generate values for co-ordinates and thickness\n",
    "    x1=np.random.randint(0,600)\n",
    "    x2=np.random.randint(0,600)\n",
    "    y1=np.random.randint(0,600)\n",
    "    y2=np.random.randint(0,600)\n",
    "    z=np.random.randint(0,15)\n",
    "    # generate colour values\n",
    "    r = lambda: random.randint(0,255)\n",
    "    col=('#%02X%02X%02X' % (r(),r(),r()))\n",
    "    #plot ovals\n",
    "    c.create_oval(x1, y1, x2, y2,width=z, fill=col)\n",
    "\n",
    "print(\"pattern generated\") \n",
    "mainloop()"
   ]
  },
  {
   "cell_type": "markdown",
   "metadata": {},
   "source": [
    "## Random Arcs\n",
    "\n",
    "The following code is similar to that of random ovals but uses arc rather than full ovals."
   ]
  },
  {
   "cell_type": "code",
   "execution_count": null,
   "metadata": {
    "collapsed": false
   },
   "outputs": [],
   "source": [
    "# Random Arcs\n",
    "\n",
    "# import the tkinter module and create the canvas\n",
    "from tkinter import *\n",
    "main = Tk()\n",
    "c = Canvas(main, width=600, height=600)\n",
    "c.pack()\n",
    "\n",
    "# import modules to generate random numbers\n",
    "import numpy as np\n",
    "import random\n",
    "\n",
    "# create for loop\n",
    "for x in range(50) :\n",
    "    # generate co-ordinates and arc thickness\n",
    "    x1=np.random.randint(0,600)\n",
    "    x2=np.random.randint(0,600)\n",
    "    y1=np.random.randint(0,600)\n",
    "    y2=np.random.randint(0,600)\n",
    "    z=np.random.randint(0,15)\n",
    "    \n",
    "    # generate colour value\n",
    "    r = lambda: random.randint(0,255)\n",
    "    col=('#%02X%02X%02X' % (r(),r(),r()))\n",
    "    \n",
    "    # draw arcs\n",
    "    c.create_arc(x1, y1, x2, y2,fill=col)\n",
    "    #c.create_arc(x1, y1+10, x2, y2,fill=\"White\")\n",
    "\n",
    "print(\"pattern generated\") \n",
    "mainloop()"
   ]
  },
  {
   "cell_type": "markdown",
   "metadata": {},
   "source": [
    "## Random dots\n",
    "\n",
    "In this version is a slight variation on the code for random ovals but instead of creating 2 sets of x and y co-ordinates we have created a set of xand y co-ordinates and added a added the same avalue to the x and y to come up with the second set of x and  y cordinates, making each oval into a perfect circle. \n",
    "\n",
    "To complete the pattern we've made the stroke value the same for each circle, and increased the number of loops to generate more dots."
   ]
  },
  {
   "cell_type": "code",
   "execution_count": null,
   "metadata": {
    "collapsed": false
   },
   "outputs": [],
   "source": [
    "# Random dots\n",
    "\n",
    "# import the tkinter module and create the canvas\n",
    "from tkinter import *\n",
    "main = Tk()\n",
    "c = Canvas(main, width=600, height=600)\n",
    "c.pack()\n",
    "\n",
    "# import modules to genrate random numbers\n",
    "import numpy as np\n",
    "import random\n",
    "\n",
    "# create loop\n",
    "for x in range(200) :\n",
    "    # generate co-ordinates for dot and thickness\n",
    "    x1=np.random.randint(75,525)\n",
    "    y1=np.random.randint(75,525)\n",
    "    z=np.random.randint(0,50)\n",
    "    # generate colour value\n",
    "    r = lambda: random.randint(0,255)\n",
    "    col=('#%02X%02X%02X' % (r(),r(),r()))\n",
    "    # draw dot\n",
    "    c.create_oval(x1, y1, x1+z, y1+z,width=2.5, fill=col)\n",
    "\n",
    "print(\"pattern generated\") \n",
    "mainloop()"
   ]
  },
  {
   "cell_type": "markdown",
   "metadata": {},
   "source": [
    "## Random dot trails\n",
    "\n",
    "Having achieve a random dot pattern the next logical step would be to try and recreate a jeckson pollock like look with randoms rows of similarly coloured spots.\n",
    "\n",
    "The principle idea is to use nested loops for this the outer loop selects the start point, base colour, approx spacing and number of dots for each row. The inner loop creates the actual dots in each row along with the slight variations between them. \n",
    "\n",
    "The stoke size has been further reduced to make the fill stand out, and the colour of each dot been allowed a degree of movement."
   ]
  },
  {
   "cell_type": "code",
   "execution_count": null,
   "metadata": {
    "collapsed": false
   },
   "outputs": [],
   "source": [
    "# import tkinter and create the canvas\n",
    "from tkinter import *\n",
    "main = Tk()\n",
    "c = Canvas(main, width=600, height=600)\n",
    "c.pack()\n",
    "\n",
    "# import something for the random numbers\n",
    "import numpy as np\n",
    "import random\n",
    "\n",
    "# create the rows\n",
    "for x in range(120) :\n",
    "    # set start point for row\n",
    "    x1=np.random.randint(-400,600)\n",
    "    y1=np.random.randint(-400,600)\n",
    "    # set base spacing and number of dots for the row\n",
    "    xz=np.random.randint(30,40)\n",
    "    yz=np.random.randint(30,40)\n",
    "    csize=np.random.randint(4,8)\n",
    "    # set colour for row\n",
    "    r = lambda: random.randint(15,240)\n",
    "    col=('#%02X%02X%02X' % (r(),r(),r()))\n",
    "    # create the dots\n",
    "    for y in range(csize) :\n",
    "        # vary the size of the dots\n",
    "        z=np.random.randint(7,40)\n",
    "        w=np.random.randint(7,12)\n",
    "        # vary the position slightly\n",
    "        v1=np.random.randint(-10,10)\n",
    "        v2=np.random.randint(-5,5)\n",
    "        xx=x1+(xz*w)+v1\n",
    "        yy=y1+(xz*w)+v2\n",
    "        # vary the colour slightly\n",
    "        vr=random.randint(-5,5)\n",
    "        col=('#%02X%02X%02X' % ((r()+vr),(r()+vr),(r()+vr)))\n",
    "        # draw oval\n",
    "        c.create_oval(xx, yy, xx+z, yy+z,width=1, fill=col)\n",
    "\n",
    "print(\"pattern generated\") \n",
    "mainloop()"
   ]
  },
  {
   "cell_type": "markdown",
   "metadata": {},
   "source": [
    "## More Random dot trails\n",
    "\n",
    "The first attemp to a Jackson Pollock look, worked to an extent but needed a little refingnment. \n",
    "\n",
    "The first refinement is create a smaller pallete of colours, this time created a list of the colour names and used a random number as a filter. Next i've removed the stocked altogether, increased the potential number of splats and reduced the spacing so the splats fall on top of each other forming sport of paint trails rather than dots.\n",
    "\n"
   ]
  },
  {
   "cell_type": "code",
   "execution_count": null,
   "metadata": {
    "collapsed": false
   },
   "outputs": [],
   "source": [
    "# import tkinter and create the canvas\n",
    "from tkinter import *\n",
    "main = Tk()\n",
    "c = Canvas(main, width=600, height=600)\n",
    "c.pack()\n",
    "\n",
    "# import something for the random numbers\n",
    "import numpy as np\n",
    "import random\n",
    "\n",
    "# create the Colour Pallette\n",
    "colours=[\"red\",\"blue\",\"gold\",\"forest green\",\"green2\",\"deep pink\",\"yellow\",\"navy\"]\n",
    "col=((colours)[np.random.randint(0,8)])\n",
    "\n",
    "# create the left right rows\n",
    "for x in range(100) :\n",
    "    # set start point for row\n",
    "    x1=np.random.randint(-400,600)\n",
    "    y1=np.random.randint(-400,600)\n",
    "    # set base spacing and number of dots for the row\n",
    "    xz=np.random.randint(10,40)\n",
    "    yz=np.random.randint(10,40)\n",
    "    csize=np.random.randint(4,24)\n",
    "    # set colour for row\n",
    "    col=((colours)[np.random.randint(0,8)])\n",
    "    # create the dots\n",
    "    for y in range(csize) :\n",
    "        # vary the size of the dots\n",
    "        z=np.random.randint(7,40)\n",
    "        w=np.random.randint(7,12)\n",
    "        # vary the position slightly\n",
    "        v1=np.random.randint(-10,10)\n",
    "        v2=np.random.randint(-5,5)\n",
    "        xx=x1+(xz*w)+v1\n",
    "        yy=y1+(xz*w)+v2\n",
    "        c.create_oval(xx, yy, xx+z, yy+z,width=0, fill=col)\n",
    "        \n",
    "# create the right left rows\n",
    "for x in range(100) :\n",
    "    # set start point for row\n",
    "    x1=np.random.randint(-400,450)\n",
    "    y1=np.random.randint(-400,450)\n",
    "    # set base spacing and number of dots for the row\n",
    "    xz=np.random.randint(10,40)\n",
    "    yz=np.random.randint(10,40)\n",
    "    csize=np.random.randint(4,70)\n",
    "    # set colour for row\n",
    "    col=((colours)[np.random.randint(0,8)])\n",
    "    # create the dots\n",
    "    for y in range(csize) :\n",
    "        # vary the size of the dots\n",
    "        z=np.random.randint(5,30)\n",
    "        w=np.random.randint(7,12)\n",
    "        # vary the position slightly\n",
    "        v1=np.random.randint(-10,10)\n",
    "        v2=np.random.randint(-5,5)\n",
    "        xx=x1-(xz* w)+v1\n",
    "        yy=y1+(xz*w)+v2\n",
    "        c.create_oval(xx, yy, xx+z, yy+z,width=0, fill=col)        \n",
    "        \n",
    "\n",
    "print(\"pattern generated\") \n",
    "mainloop()"
   ]
  },
  {
   "cell_type": "markdown",
   "metadata": {},
   "source": [
    "## Random Rings\n",
    "\n",
    "Random rings uses a variation on the code for random dots but adds a second create_oval line with a white fill on top of the first to turn th spot shape into a ring. I've created 2 versions one that makes uniform rings the other doesn't shift the second x/y co-ordinates creating cresents rather than rings. "
   ]
  },
  {
   "cell_type": "code",
   "execution_count": null,
   "metadata": {
    "collapsed": false
   },
   "outputs": [],
   "source": [
    "# Rsndom Rings\n",
    "\n",
    "# import the tkinter module and create the canvas\n",
    "from tkinter import *\n",
    "main = Tk()\n",
    "c = Canvas(main, width=600, height=600)\n",
    "c.pack()\n",
    "\n",
    "# import modules for random number generation\n",
    "import numpy as np\n",
    "import random\n",
    "# create loop\n",
    "for x in range(200) :\n",
    "    # generate co-ordinates and ring thickness\n",
    "    x1=np.random.randint(75,525)\n",
    "    y1=np.random.randint(75,525)\n",
    "    z=np.random.randint(0,50)\n",
    "    # generate colour value\n",
    "    r = lambda: random.randint(0,255)\n",
    "    col=('#%02X%02X%02X' % (r(),r(),r()))\n",
    "    # create outer circle \n",
    "    c.create_oval(x1, y1, x1+z, y1+z, fill=col)\n",
    "    # create inner circle\n",
    "    c.create_oval(x1+5, y1+5, x1+z-5, y1+z-5, fill=\"white\")\n",
    "\n",
    "print(\"pattern generated\") \n",
    "mainloop()"
   ]
  },
  {
   "cell_type": "markdown",
   "metadata": {},
   "source": [
    "## Concentric Circles\n",
    "\n",
    "This idea came out of the random rings idea above. Essentially it startes with a large circle and uses a while loop rather than a for loop to make a slighly smaller circle inside the first then another inside that until you reach the centre of the circle.\n",
    "\n",
    "The second version of concentric circles not varies the x and y start and end points with different independent variables making a more random pattern and it uses and if/else statement to alternate between coloured and white rings."
   ]
  },
  {
   "cell_type": "code",
   "execution_count": 291,
   "metadata": {
    "collapsed": false
   },
   "outputs": [
    {
     "name": "stdout",
     "output_type": "stream",
     "text": [
      "pattern generated\n"
     ]
    }
   ],
   "source": [
    "# Concentric Circles\n",
    "\n",
    "# import the tkinter module and create the canvas\n",
    "from tkinter import *\n",
    "main = Tk()\n",
    "c = Canvas(main, width=600, height=600)\n",
    "c.pack()\n",
    "\n",
    "# import modules for random number generation\n",
    "import numpy as np\n",
    "import random\n",
    "\n",
    "#create initial position\n",
    "x=-300\n",
    "y=-300\n",
    "x2=900\n",
    "y2=900\n",
    "# create loop\n",
    "while True:\n",
    "    x <= 280\n",
    "    # reduce ring size\n",
    "    x1=np.random.randint(3,30)\n",
    "    x=x+x1\n",
    "    y=y+x1\n",
    "    x2=x2-x1\n",
    "    y2=y2-x1\n",
    "    # generate colour value\n",
    "    r = lambda: random.randint(0,255)\n",
    "    col=('#%02X%02X%02X' % (r(),r(),r()))\n",
    "    # draw circle\n",
    "    c.create_oval(x,y,x2,y2, fill=col)\n",
    "    if x >= 280:\n",
    "        break\n",
    "\n",
    "print(\"pattern generated\") \n",
    "mainloop()"
   ]
  },
  {
   "cell_type": "code",
   "execution_count": 292,
   "metadata": {
    "collapsed": false
   },
   "outputs": [
    {
     "name": "stdout",
     "output_type": "stream",
     "text": [
      "pattern generated\n"
     ]
    }
   ],
   "source": [
    "# Concentric Circles 2\n",
    "\n",
    "# import the tkinter module and create the canvas\n",
    "from tkinter import *\n",
    "main = Tk()\n",
    "c = Canvas(main, width=600, height=600)\n",
    "c.pack()\n",
    "\n",
    "# import modules for random number generation\n",
    "import numpy as np\n",
    "import random\n",
    "\n",
    "#create initial position\n",
    "x=np.random.randint(-600,-300)\n",
    "y=np.random.randint(-600,-300)\n",
    "x2=x+1200\n",
    "y2=y+1200\n",
    "\n",
    "# generate colour value\n",
    "r = lambda: random.randint(0,255)\n",
    "col=('#%02X%02X%02X' % (r(),r(),r()))\n",
    "colour=col    \n",
    "# create loop\n",
    "while True:\n",
    "    x <= 260\n",
    "    # reduce ring size\n",
    "    x1=np.random.randint(3,20)\n",
    "    y1=np.random.randint(3,20)\n",
    "    x3=np.random.randint(3,20)\n",
    "    y3=np.random.randint(3,20)\n",
    "    x=x+x1\n",
    "    y=y+y1\n",
    "    x2=x2-x3\n",
    "    y2=y2-y3\n",
    "    # generate colour value\n",
    "    if colour==\"white\" :\n",
    "        colour=col\n",
    "    else:\n",
    "        colour=\"white\"   \n",
    "    # draw circle\n",
    "    c.create_oval(x,y,x2,y2, fill=colour)\n",
    "    if x >= 260:\n",
    "        break\n",
    "\n",
    "print(\"pattern generated\") \n",
    "mainloop()"
   ]
  },
  {
   "cell_type": "code",
   "execution_count": 287,
   "metadata": {
    "collapsed": false
   },
   "outputs": [],
   "source": [
    "# Rsndom Waves"
   ]
  },
  {
   "cell_type": "markdown",
   "metadata": {},
   "source": [
    "## Random polycons\n",
    "\n",
    "Another function on tkinter is create_polgon and as i have created lines, ovals and arc, I thaught i'd see what it does. "
   ]
  },
  {
   "cell_type": "code",
   "execution_count": 283,
   "metadata": {
    "collapsed": false
   },
   "outputs": [
    {
     "name": "stdout",
     "output_type": "stream",
     "text": [
      "pattern generated\n"
     ]
    }
   ],
   "source": [
    "# Rsndom Polycons\n",
    "\n",
    "# import tkinter and create the canvas\n",
    "from tkinter import *\n",
    "main = Tk()\n",
    "c = Canvas(main, width=600, height=600)\n",
    "c.pack()\n",
    "\n",
    "# import something for the random numbers\n",
    "import numpy as np\n",
    "import random\n",
    "\n",
    "# create the Colour Pallette\n",
    "colours=[\"red\",\"blue\",\"gold\",\"forest green\",\"green2\",\"deep pink\",\"yellow\",\"navy\"]\n",
    "col=((colours)[np.random.randint(0,8)])\n",
    "\n",
    "# polygons\n",
    "for x in range(200) :\n",
    "    # set start point for row\n",
    "    x1=np.random.randint(-50,500)\n",
    "    y1=np.random.randint(-50,500)\n",
    "    # set colour for polycon\n",
    "    r = lambda: random.randint(0,255)\n",
    "    col=('#%02X%02X%02X' % (r(),r(),r()))\n",
    "    # decide how many side polycon should have \n",
    "    sides=np.random.randint(3,9)\n",
    "    # create empty array\n",
    "    a=[]\n",
    "    for y in range(sides) :\n",
    "        x2=np.random.randint(0,50)\n",
    "        y2=np.random.randint(0,50)\n",
    "        xx=x1+x1+x2\n",
    "        yy=y1+y1+y2\n",
    "        a.append([xx, yy])\n",
    "    c.create_polygon(a, width=z, fill=col)\n",
    "print(\"pattern generated\") \n",
    "mainloop()"
   ]
  },
  {
   "cell_type": "code",
   "execution_count": null,
   "metadata": {
    "collapsed": true
   },
   "outputs": [],
   "source": []
  }
 ],
 "metadata": {
  "kernelspec": {
   "display_name": "Python 3",
   "language": "python",
   "name": "python3"
  },
  "language_info": {
   "codemirror_mode": {
    "name": "ipython",
    "version": 3
   },
   "file_extension": ".py",
   "mimetype": "text/x-python",
   "name": "python",
   "nbconvert_exporter": "python",
   "pygments_lexer": "ipython3",
   "version": "3.6.0"
  }
 },
 "nbformat": 4,
 "nbformat_minor": 2
}
