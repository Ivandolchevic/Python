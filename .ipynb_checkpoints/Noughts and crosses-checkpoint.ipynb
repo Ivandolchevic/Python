{
 "cells": [
  {
   "cell_type": "code",
   "execution_count": 10,
   "metadata": {
    "collapsed": false
   },
   "outputs": [
    {
     "ename": "SyntaxError",
     "evalue": "invalid character in identifier (<ipython-input-10-f373822dc8ed>, line 17)",
     "output_type": "error",
     "traceback": [
      "\u001b[0;36m  File \u001b[0;32m\"<ipython-input-10-f373822dc8ed>\"\u001b[0;36m, line \u001b[0;32m17\u001b[0m\n\u001b[0;31m    c.bind(“Button-1”, click)\u001b[0m\n\u001b[0m                 ^\u001b[0m\n\u001b[0;31mSyntaxError\u001b[0m\u001b[0;31m:\u001b[0m invalid character in identifier\n"
     ]
    }
   ],
   "source": [
    "from tkinter import *\n",
    "main = Tk()\n",
    "c = Canvas(main, width=600, height=600)\n",
    "c.pack()\n",
    "c.create_line(200, 0, 200, 600)\n",
    "c.create_line(400, 0, 400, 600)\n",
    "c.create_line(0, 200, 600, 200)\n",
    "c.create_line(0, 400, 600, 400)\n",
    "\n",
    "def click(event):\n",
    "    across = int(c.canvasx(event.x)/200)\n",
    "    down = int(c.canvasy(event.y)/200)\n",
    "    c.create_oval(\n",
    "        across*200,down*200,\n",
    "        (across+1)*200,(down+1)*200\n",
    "    )\n",
    "c.bind(“<Button-1>”, click)\n",
    "mainloop()"
   ]
  },
  {
   "cell_type": "code",
   "execution_count": 26,
   "metadata": {
    "collapsed": false
   },
   "outputs": [
    {
     "ename": "IndentationError",
     "evalue": "expected an indented block (<ipython-input-26-91389feae0fa>, line 16)",
     "output_type": "error",
     "traceback": [
      "\u001b[0;36m  File \u001b[0;32m\"<ipython-input-26-91389feae0fa>\"\u001b[0;36m, line \u001b[0;32m16\u001b[0m\n\u001b[0;31m    global shape, grid\u001b[0m\n\u001b[0m         ^\u001b[0m\n\u001b[0;31mIndentationError\u001b[0m\u001b[0;31m:\u001b[0m expected an indented block\n"
     ]
    }
   ],
   "source": [
    "from tkinter import *\n",
    "main = Tk()\n",
    "c = Canvas(main, width=600, height=600)\n",
    "c.pack()\n",
    "c.create_line(200, 0, 200, 600)\n",
    "c.create_line(400, 0, 400, 600)\n",
    "c.create_line(0, 200, 600, 200)\n",
    "c.create_line(0, 400, 600, 400)\n",
    "shape = O\n",
    "grid = [\n",
    "    0, 1, 2,\n",
    "    3, 4, 5,\n",
    "    6, 7, 8,\n",
    "]\n",
    "def click(event):\n",
    "global shape, grid\n",
    "    across = int(c.canvasx(event.x)/200)\n",
    "    down = int(c.canvasy(event.y)/200)\n",
    "    square = across + (down*3)\n",
    "    if grid[square] == X or grid[square] == O:\n",
    "    return"
   ]
  },
  {
   "cell_type": "code",
   "execution_count": null,
   "metadata": {
    "collapsed": true
   },
   "outputs": [],
   "source": []
  },
  {
   "cell_type": "code",
   "execution_count": 19,
   "metadata": {
    "collapsed": false
   },
   "outputs": [
    {
     "ename": "SyntaxError",
     "evalue": "invalid character in identifier (<ipython-input-19-8c437972287e>, line 10)",
     "output_type": "error",
     "traceback": [
      "\u001b[0;36m  File \u001b[0;32m\"<ipython-input-19-8c437972287e>\"\u001b[0;36m, line \u001b[0;32m10\u001b[0m\n\u001b[0;31m    shape = “O”\u001b[0m\n\u001b[0m              ^\u001b[0m\n\u001b[0;31mSyntaxError\u001b[0m\u001b[0;31m:\u001b[0m invalid character in identifier\n"
     ]
    }
   ],
   "source": [
    "from tkinter import *\n",
    "main = Tk()\n",
    "c = Canvas(main, width=600, height=600)\n",
    "c.pack()\n",
    "c.create_line(200, 0, 200, 600)\n",
    "c.create_line(400, 0, 400, 600)\n",
    "c.create_line(0, 200, 600, 200)\n",
    "c.create_line(0, 400, 600, 400)\n",
    "\n",
    "shape = “O”\n",
    "grid = [\n",
    "    “0”, “1”, “2”,\n",
    "    “3”, “4”, “5”,\n",
    "    “6”, “7”, “8”,\n",
    "]\n",
    "def click(event):\n",
    "    global shape\n",
    "    across = int(c.canvasx(event.x)/200)\n",
    "    down = int(c.canvasy(event.y)/200)\n",
    "    square = across + (down*3)\n",
    "    if grid[square] == “X” or grid[square] == “O”:\n",
    "        return\n",
    "    if shape == “O”:\n",
    "        c.create_oval(\n",
    "            across*200,down*200,\n",
    "            (across+1)*200,(down+1)*200\n",
    "        )\n",
    "        grid[square] = “O”\n",
    "        shape = “X”\n",
    "    else:\n",
    "        c.create_line(\n",
    "            across*200, down*200,\n",
    "            (across+1)*200, (down+1)*200\n",
    "        )\n",
    "        c.create_line(\n",
    "            across*200, (down+1)*200,\n",
    "            (across+1)*200, down*200\n",
    "        )\n",
    "        grid[square] = “X”"
   ]
  },
  {
   "cell_type": "code",
   "execution_count": 21,
   "metadata": {
    "collapsed": false
   },
   "outputs": [],
   "source": [
    "shape = 0\n"
   ]
  },
  {
   "cell_type": "code",
   "execution_count": null,
   "metadata": {
    "collapsed": true
   },
   "outputs": [],
   "source": []
  }
 ],
 "metadata": {
  "kernelspec": {
   "display_name": "Python 3",
   "language": "python",
   "name": "python3"
  },
  "language_info": {
   "codemirror_mode": {
    "name": "ipython",
    "version": 3
   },
   "file_extension": ".py",
   "mimetype": "text/x-python",
   "name": "python",
   "nbconvert_exporter": "python",
   "pygments_lexer": "ipython3",
   "version": "3.6.0"
  }
 },
 "nbformat": 4,
 "nbformat_minor": 2
}
