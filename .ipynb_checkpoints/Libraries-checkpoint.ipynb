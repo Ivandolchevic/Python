{
 "cells": [
  {
   "cell_type": "markdown",
   "metadata": {},
   "source": [
    "# Libraries"
   ]
  },
  {
   "cell_type": "markdown",
   "metadata": {},
   "source": [
    "# importing and exporting\n",
    "\n",
    "import pickle\n",
    "\n"
   ]
  },
  {
   "cell_type": "markdown",
   "metadata": {},
   "source": [
    "# Numbers\n",
    "\n",
    "Numpy np - module that handles numbers\n",
    "\n",
    "Pandas pd - module used with dataframes"
   ]
  },
  {
   "cell_type": "markdown",
   "metadata": {},
   "source": [
    "# Api's and the web\n",
    "\n",
    "Json - Module deals with processing api's and json\n",
    "\n",
    "\n",
    "tweepy - Module deals with twitter api"
   ]
  },
  {
   "cell_type": "markdown",
   "metadata": {},
   "source": [
    "# Functions\n",
    "\n",
    "from functools import reduce"
   ]
  },
  {
   "cell_type": "markdown",
   "metadata": {},
   "source": [
    "# Visualisation\n",
    "\n",
    "\n",
    "Matplotlib plt - Module deals with plotting graphs\n",
    "\n",
    "Seaborn as sns - Module deals with statistical data virtualization"
   ]
  },
  {
   "cell_type": "markdown",
   "metadata": {},
   "source": [
    "# Networks\n",
    "\n",
    "import networkx as nx\n",
    "\n",
    "import nxviz as nv\n",
    "\n",
    "from nxviz.plots import CircosPlot\n",
    "\n",
    "from itertools import combinations"
   ]
  },
  {
   "cell_type": "markdown",
   "metadata": {},
   "source": [
    "# Natural Language Pocessing\n",
    "\n",
    "re - regular expressions\n",
    "\n",
    "from nltk.corpus import stopword\n",
    "\n",
    "from nltk.tokenize import sent_tokenize\n",
    "\n",
    "from nltk.tokenize import regexp_tokenize\n",
    "\n",
    "from nltk.tokenize import regexp_tokenize\n",
    "\n",
    "from collections import Counter "
   ]
  }
 ],
 "metadata": {
  "kernelspec": {
   "display_name": "Python 3",
   "language": "python",
   "name": "python3"
  },
  "language_info": {
   "codemirror_mode": {
    "name": "ipython",
    "version": 3
   },
   "file_extension": ".py",
   "mimetype": "text/x-python",
   "name": "python",
   "nbconvert_exporter": "python",
   "pygments_lexer": "ipython3",
   "version": "3.6.0"
  }
 },
 "nbformat": 4,
 "nbformat_minor": 2
}
