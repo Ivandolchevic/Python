{
 "cells": [
  {
   "cell_type": "code",
   "execution_count": null,
   "metadata": {
    "collapsed": true
   },
   "outputs": [],
   "source": [
    "#pandas info\n",
    "\n",
    "import pandas as pd\n",
    "import numpy as np\n",
    "\n",
    "file=\"Data/Air_Quality.csv\"\n",
    "airquality=pd.read_csv(file)\n",
    "\n",
    "print(\"shape\")\n",
    "print(airquality.shape)\n",
    "print(\"columns\")\n",
    "print(airquality.columns)\n",
    "print(\"head\")\n",
    "print(airquality.head())\n",
    "print(\"info\")\n",
    "print(airquality.info)\n",
    "print(\"describe\")\n",
    "print(airquality.describe())\n",
    "print(\".apply(np.mean)\")\n",
    "print(airquality.apply(np.mean, axis=0))\n",
    "print(airquality.groupby(['Wind']).size().head())"
   ]
  }
 ],
 "metadata": {
  "kernelspec": {
   "display_name": "Python 3",
   "language": "python",
   "name": "python3"
  },
  "language_info": {
   "codemirror_mode": {
    "name": "ipython",
    "version": 3
   },
   "file_extension": ".py",
   "mimetype": "text/x-python",
   "name": "python",
   "nbconvert_exporter": "python",
   "pygments_lexer": "ipython3",
   "version": "3.6.0"
  }
 },
 "nbformat": 4,
 "nbformat_minor": 2
}
