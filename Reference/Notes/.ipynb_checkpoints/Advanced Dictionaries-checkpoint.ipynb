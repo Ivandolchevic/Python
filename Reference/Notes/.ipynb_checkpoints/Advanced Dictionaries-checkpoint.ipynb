{
 "cells": [
  {
   "cell_type": "code",
   "execution_count": 15,
   "metadata": {
    "collapsed": false
   },
   "outputs": [
    {
     "name": "stdout",
     "output_type": "stream",
     "text": [
      "dict_keys(['Dune', 'Black hawk down'])\n",
      "dict_values([{'title': 'Dune', 'director': 'dsvid lynch', 'actors': {'fade': 'sting', 'Moordeeb': 'kyle,mcloughlin'}}, {'title': 'black hawk down', 'director': 'ridley scott', 'actors': {'Soldier1': 'Ewan Mcgregor'}}])\n",
      "dict_values(['Dune', 'dsvid lynch', {'fade': 'sting', 'Moordeeb': 'kyle,mcloughlin'}])\n"
     ]
    }
   ],
   "source": [
    "# Create a dictionary\n",
    "films={}\n",
    "#create a sub dictionary\n",
    "films[\"Dune\"]= {\"title\":\"Dune\",\"director\":\"dsvid lynch\", \"actors\":{\"fade\":\"sting\",\"Moordeeb\":\"kyle,mcloughlin\"}}\n",
    "films[\"Black hawk down\"]={\"title\":\"black hawk down\",\"director\":\"ridley scott\",\"actors\":{\"Soldier1\":\"Ewan Mcgregor\"}}\n",
    "\n",
    "print(films.keys())\n",
    "print(films.values())\n",
    "\n",
    "print(films[\"Dune\"].values())"
   ]
  },
  {
   "cell_type": "code",
   "execution_count": 21,
   "metadata": {
    "collapsed": false
   },
   "outputs": [
    {
     "data": {
      "text/plain": [
       "<module 'pandas._version' from '/anaconda/lib/python3.6/site-packages/pandas/_version.py'>"
      ]
     },
     "execution_count": 21,
     "metadata": {},
     "output_type": "execute_result"
    }
   ],
   "source": [
    "import pandas as pd\n",
    "dir(pd)\n",
    "pd._version\n"
   ]
  },
  {
   "cell_type": "code",
   "execution_count": null,
   "metadata": {
    "collapsed": true
   },
   "outputs": [],
   "source": []
  }
 ],
 "metadata": {
  "kernelspec": {
   "display_name": "Python 3",
   "language": "python",
   "name": "python3"
  },
  "language_info": {
   "codemirror_mode": {
    "name": "ipython",
    "version": 3
   },
   "file_extension": ".py",
   "mimetype": "text/x-python",
   "name": "python",
   "nbconvert_exporter": "python",
   "pygments_lexer": "ipython3",
   "version": "3.6.0"
  }
 },
 "nbformat": 4,
 "nbformat_minor": 2
}
