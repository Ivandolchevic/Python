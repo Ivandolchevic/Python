{
 "cells": [
  {
   "cell_type": "markdown",
   "metadata": {},
   "source": [
    "# Useful Functions\n"
   ]
  },
  {
   "cell_type": "markdown",
   "metadata": {},
   "source": [
    "# Working with Time\n",
    "\n"
   ]
  },
  {
   "cell_type": "code",
   "execution_count": 3,
   "metadata": {
    "collapsed": false
   },
   "outputs": [
    {
     "name": "stdout",
     "output_type": "stream",
     "text": [
      "This function last ran at Fri Aug 25 02:47:24 2017\n",
      "start sleep\n",
      "end sleep\n"
     ]
    }
   ],
   "source": [
    "import time\n",
    "\n",
    "# get the current date and time\n",
    "time.ctime()\n",
    "print(\"This function last ran at \" + time.ctime())\n",
    "\n",
    "# put the process to sleep\n",
    "print(\"start sleep\")\n",
    "time.sleep(10)\n",
    "print(\"end sleep\")"
   ]
  },
  {
   "cell_type": "markdown",
   "metadata": {},
   "source": [
    "# Working with the Operating system"
   ]
  },
  {
   "cell_type": "code",
   "execution_count": 47,
   "metadata": {
    "collapsed": false
   },
   "outputs": [
    {
     "name": "stdout",
     "output_type": "stream",
     "text": [
      "/Users/davidcoxon/Documents/Github/Python/Notes\n",
      "['.DS_Store', '.ipynb_checkpoints', 'boxplots, stackgraphs.ipynb', 'Data', 'Graphs', 'README.md', 'Tools.ipynb', 'Useful Functions.ipynb']\n",
      "['.DS_Store', '.ipynb_checkpoints', 'boxplots, stackgraphs.ipynb', 'Data', 'Graphs', 'README.md', 'Test', 'Tools.ipynb', 'Useful Functions.ipynb']\n",
      "['.DS_Store', '.ipynb_checkpoints', 'boxplots, stackgraphs.ipynb', 'Data', 'Graphs', 'README.md', 'test1', 'Tools.ipynb', 'Useful Functions.ipynb']\n",
      "['.DS_Store', '.ipynb_checkpoints', 'boxplots, stackgraphs.ipynb', 'Data', 'Graphs', 'README.md', 'Test2', 'Tools.ipynb', 'Useful Functions.ipynb']\n",
      "['.DS_Store', '.ipynb_checkpoints', 'boxplots, stackgraphs.ipynb', 'Data', 'Graphs', 'README.md', 'Tools.ipynb', 'Useful Functions.ipynb']\n",
      "numbers.csv\n",
      "['1numbers.csv']\n",
      "Hello davidcoxon\n"
     ]
    }
   ],
   "source": [
    "import os\n",
    "\n",
    "# get the current working directory\n",
    "os.getcwd()\n",
    "print(os.getcwd())\n",
    "\n",
    "# list files in currect working directory\n",
    "os.listdir()\n",
    "print(os.listdir())\n",
    "\n",
    "# list files in a sub directory\n",
    "os.listdir(\"Data/\")\n",
    "\n",
    "# list files in a parent directory\n",
    "os.listdir(\"..\")\n",
    "\n",
    "# make a new directory\n",
    "os.mkdir(\"Test\")\n",
    "print(os.listdir())\n",
    "\n",
    "# replace a directory\n",
    "file_name=\"test\"\n",
    "new_file_name=file_name+\"1\"\n",
    "os.replace(file_name,new_file_name)\n",
    "print(os.listdir())\n",
    "\n",
    "# replace a directory\n",
    "os.replace(\"Test1\",\"Test2\")\n",
    "print(os.listdir())\n",
    "\n",
    "# remove a directory\n",
    "os.rmdir(\"Test2\")\n",
    "print(os.listdir())\n",
    "\n",
    "# renaming all files in a sub directory\n",
    "file_list=os.listdir(\"Data/\")\n",
    "for file_name in file_list:\n",
    "    print(file_name)\n",
    "    os.replace(\"Data/\"+file_name,\"Data/\"+\"1\" + file_name)\n",
    "    print(os.listdir(\"Data/\"))\n",
    "os.replace(\"Data/1numbers.csv\",\"Data/numbers.csv\") #restore the filename\n",
    "    \n",
    "# get the current users name    \n",
    "os.getlogin()\n",
    "print(\"Hello \"+os.getlogin())\n"
   ]
  },
  {
   "cell_type": "code",
   "execution_count": null,
   "metadata": {
    "collapsed": true
   },
   "outputs": [],
   "source": []
  },
  {
   "cell_type": "code",
   "execution_count": null,
   "metadata": {
    "collapsed": true
   },
   "outputs": [],
   "source": []
  }
 ],
 "metadata": {
  "kernelspec": {
   "display_name": "Python 3",
   "language": "python",
   "name": "python3"
  },
  "language_info": {
   "codemirror_mode": {
    "name": "ipython",
    "version": 3
   },
   "file_extension": ".py",
   "mimetype": "text/x-python",
   "name": "python",
   "nbconvert_exporter": "python",
   "pygments_lexer": "ipython3",
   "version": "3.6.0"
  }
 },
 "nbformat": 4,
 "nbformat_minor": 2
}
