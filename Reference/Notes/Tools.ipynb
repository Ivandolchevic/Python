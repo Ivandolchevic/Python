{
 "cells": [
  {
   "cell_type": "markdown",
   "metadata": {},
   "source": [
    "# Tools\n",
    "\n",
    "## Timing\n",
    "\n",
    "You can use timeit to do basic timing of processes to see which whether a partiular function takes longer than another or how well a function scales, but its not really up to scientic scrutiny. Ypu also have to take care when applying it to functions like sort if you run it multiple times on the same list as once sorted the list will take less time to resort in the futre. "
   ]
  },
  {
   "cell_type": "code",
   "execution_count": 12,
   "metadata": {
    "collapsed": false
   },
   "outputs": [
    {
     "data": {
      "text/plain": [
       "0.03913150599964865"
      ]
     },
     "execution_count": 12,
     "metadata": {},
     "output_type": "execute_result"
    }
   ],
   "source": [
    "import timeit\n",
    "timeit.timeit(\"x = 10**6\",\"y=2+3\")"
   ]
  },
  {
   "cell_type": "code",
   "execution_count": 13,
   "metadata": {
    "collapsed": false
   },
   "outputs": [
    {
     "data": {
      "text/plain": [
       "0.9952543420004076"
      ]
     },
     "execution_count": 13,
     "metadata": {},
     "output_type": "execute_result"
    }
   ],
   "source": [
    "timeit.timeit(\"x = sum(range(10))\")"
   ]
  },
  {
   "cell_type": "markdown",
   "metadata": {},
   "source": [
    "## cProfile\n",
    "\n",
    "Python comes with a number of built in profilers but cProfiler is the one that's recommended. xProfiler shows how much time different elements of your functions take, you can then work out where the bottlenecks are and try to optomize any areas that require it."
   ]
  },
  {
   "cell_type": "code",
   "execution_count": 27,
   "metadata": {
    "collapsed": false
   },
   "outputs": [
    {
     "name": "stdout",
     "output_type": "stream",
     "text": [
      "         4 function calls in 0.000 seconds\n",
      "\n",
      "   Ordered by: standard name\n",
      "\n",
      "   ncalls  tottime  percall  cumtime  percall filename:lineno(function)\n",
      "        1    0.000    0.000    0.000    0.000 <string>:1(<module>)\n",
      "        1    0.000    0.000    0.000    0.000 {built-in method builtins.exec}\n",
      "        1    0.000    0.000    0.000    0.000 {built-in method builtins.sum}\n",
      "        1    0.000    0.000    0.000    0.000 {method 'disable' of '_lsprof.Profiler' objects}\n",
      "\n",
      "\n"
     ]
    }
   ],
   "source": [
    "import cProfile\n",
    "cProfile.run(\"x = sum(range(10))\")"
   ]
  },
  {
   "cell_type": "code",
   "execution_count": 25,
   "metadata": {
    "collapsed": false
   },
   "outputs": [
    {
     "name": "stdout",
     "output_type": "stream",
     "text": [
      "         1377 function calls (1370 primitive calls) in 0.004 seconds\n",
      "\n",
      "   Ordered by: standard name\n",
      "\n",
      "   ncalls  tottime  percall  cumtime  percall filename:lineno(function)\n",
      "        3    0.000    0.000    0.000    0.000 <frozen importlib._bootstrap>:402(parent)\n",
      "       23    0.000    0.000    0.000    0.000 <frozen importlib._bootstrap>:989(_handle_fromlist)\n",
      "        1    0.000    0.000    0.004    0.004 <string>:1(<module>)\n",
      "        2    0.000    0.000    0.000    0.000 <string>:12(__new__)\n",
      "        6    0.000    0.000    0.000    0.000 __init__.py:175(iteritems)\n",
      "        1    0.000    0.000    0.000    0.000 __init__.py:181(itervalues)\n",
      "        1    0.000    0.000    0.000    0.000 _methods.py:37(_any)\n",
      "        1    0.000    0.000    0.000    0.000 base.py:1302(_engine)\n",
      "        1    0.000    0.000    0.000    0.000 base.py:1305(<lambda>)\n",
      "        1    0.000    0.000    0.000    0.000 base.py:1345(__iter__)\n",
      "        7    0.000    0.000    0.000    0.000 base.py:1392(__contains__)\n",
      "      3/2    0.000    0.000    0.000    0.000 base.py:142(__new__)\n",
      "        1    0.000    0.000    0.000    0.000 base.py:1643(equals)\n",
      "        2    0.000    0.000    0.000    0.000 base.py:334(_simple_new)\n",
      "        7    0.000    0.000    0.000    0.000 base.py:3637(_ensure_index)\n",
      "        1    0.000    0.000    0.000    0.000 base.py:465(is_)\n",
      "        3    0.000    0.000    0.000    0.000 base.py:485(_reset_identity)\n",
      "        6    0.000    0.000    0.000    0.000 base.py:491(__len__)\n",
      "        2    0.000    0.000    0.000    0.000 base.py:512(dtype)\n",
      "        4    0.000    0.000    0.000    0.000 base.py:522(values)\n",
      "        2    0.000    0.000    0.000    0.000 base.py:527(get_values)\n",
      "        1    0.000    0.000    0.000    0.000 base.py:874(_values)\n",
      "        7    0.000    0.000    0.000    0.000 cast.py:660(_possibly_castable)\n",
      "        7    0.000    0.000    0.000    0.000 cast.py:672(_possibly_infer_to_datetimelike)\n",
      "        7    0.000    0.000    0.000    0.000 cast.py:765(_possibly_cast_to_datetime)\n",
      "       20    0.000    0.000    0.000    0.000 common.py:102(is_categorical_dtype)\n",
      "        1    0.000    0.000    0.000    0.000 common.py:106(is_string_dtype)\n",
      "        1    0.000    0.000    0.000    0.000 common.py:116(_is_url)\n",
      "        1    0.000    0.000    0.000    0.000 common.py:134(_is_s3_url)\n",
      "        7    0.000    0.000    0.000    0.000 common.py:153(is_integer_dtype)\n",
      "        2    0.000    0.000    0.000    0.000 common.py:170(is_datetime64_any_dtype)\n",
      "        1    0.000    0.000    0.000    0.000 common.py:175(_expand_user)\n",
      "        1    0.000    0.000    0.000    0.000 common.py:193(_validate_header_arg)\n",
      "        1    0.000    0.000    0.000    0.000 common.py:201(_stringify_path)\n",
      "        1    0.000    0.000    0.000    0.000 common.py:220(get_filepath_or_buffer)\n",
      "        2    0.000    0.000    0.000    0.000 common.py:292(is_bool_dtype)\n",
      "        7    0.000    0.000    0.000    0.000 common.py:301(is_extension_type)\n",
      "        1    0.000    0.000    0.000    0.000 common.py:333(_get_dtype)\n",
      "       15    0.000    0.000    0.000    0.000 common.py:357(_get_dtype_type)\n",
      "        3    0.000    0.000    0.000    0.000 common.py:365(_asarray_tuplesafe)\n",
      "        2    0.000    0.000    0.000    0.000 common.py:54(is_object_dtype)\n",
      "       14    0.000    0.000    0.000    0.000 common.py:59(is_sparse)\n",
      "        7    0.000    0.000    0.000    0.000 common.py:64(is_categorical)\n",
      "       14    0.000    0.000    0.000    0.000 common.py:69(is_datetimetz)\n",
      "        2    0.000    0.000    0.000    0.000 common.py:81(is_datetime64_dtype)\n",
      "       16    0.000    0.000    0.000    0.000 common.py:89(is_datetime64tz_dtype)\n",
      "        2    0.000    0.000    0.000    0.000 common.py:93(is_timedelta64_dtype)\n",
      "        1    0.000    0.000    0.000    0.000 common.py:98(is_period_dtype)\n",
      "        4    0.000    0.000    0.000    0.000 dtypes.py:132(construct_from_string)\n",
      "        1    0.000    0.000    0.000    0.000 dtypes.py:347(is_dtype)\n",
      "       37    0.000    0.000    0.000    0.000 dtypes.py:74(is_dtype)\n",
      "        1    0.000    0.000    0.002    0.002 frame.py:252(__init__)\n",
      "        1    0.000    0.000    0.002    0.002 frame.py:349(_init_dict)\n",
      "        8    0.000    0.000    0.000    0.000 frame.py:363(<genexpr>)\n",
      "        1    0.000    0.000    0.002    0.002 frame.py:5391(_arrays_to_mgr)\n",
      "        1    0.000    0.000    0.001    0.001 frame.py:5689(_homogenize)\n",
      "        1    0.000    0.000    0.000    0.000 generic.py:114(__init__)\n",
      "       79    0.000    0.000    0.000    0.000 generic.py:7(_check)\n",
      "        7    0.000    0.000    0.000    0.000 inference.py:53(is_list_like)\n",
      "        3    0.000    0.000    0.000    0.000 internals.py:179(mgr_locs)\n",
      "        1    0.000    0.000    0.000    0.000 internals.py:216(mgr_locs)\n",
      "        1    0.000    0.000    0.000    0.000 internals.py:2649(make_block)\n",
      "        1    0.000    0.000    0.000    0.000 internals.py:2745(__init__)\n",
      "        1    0.000    0.000    0.000    0.000 internals.py:2746(<listcomp>)\n",
      "        3    0.000    0.000    0.000    0.000 internals.py:2786(shape)\n",
      "        9    0.000    0.000    0.000    0.000 internals.py:2788(<genexpr>)\n",
      "        1    0.000    0.000    0.000    0.000 internals.py:2790(ndim)\n",
      "        1    0.000    0.000    0.000    0.000 internals.py:2841(_rebuild_blknos_and_blklocs)\n",
      "        1    0.000    0.000    0.000    0.000 internals.py:2862(_get_items)\n",
      "        1    0.000    0.000    0.000    0.000 internals.py:289(shape)\n",
      "        1    0.000    0.000    0.000    0.000 internals.py:2966(_verify_integrity)\n",
      "        2    0.000    0.000    0.000    0.000 internals.py:2968(<genexpr>)\n",
      "        1    0.000    0.000    0.000    0.000 internals.py:297(dtype)\n",
      "        1    0.000    0.000    0.000    0.000 internals.py:301(ftype)\n",
      "        1    0.000    0.000    0.000    0.000 internals.py:3249(is_consolidated)\n",
      "        1    0.000    0.000    0.000    0.000 internals.py:3257(_consolidate_check)\n",
      "        1    0.000    0.000    0.000    0.000 internals.py:3258(<listcomp>)\n",
      "        1    0.000    0.000    0.000    0.000 internals.py:3529(_consolidate_inplace)\n",
      "        1    0.000    0.000    0.001    0.001 internals.py:4259(create_block_manager_from_arrays)\n",
      "        1    0.000    0.000    0.001    0.001 internals.py:4270(form_blocks)\n",
      "        1    0.000    0.000    0.000    0.000 internals.py:4399(_multi_blockify)\n",
      "        7    0.000    0.000    0.000    0.000 internals.py:4403(<lambda>)\n",
      "        1    0.000    0.000    0.000    0.000 internals.py:4431(_stack_arrays)\n",
      "        7    0.000    0.000    0.000    0.000 internals.py:4434(_asarray_compat)\n",
      "        1    0.000    0.000    0.000    0.000 internals.py:4440(_shape_compat)\n",
      "        1    0.000    0.000    0.000    0.000 internals.py:96(__init__)\n",
      "        1    0.000    0.000    0.000    0.000 missing.py:245(array_equivalent)\n",
      "       11    0.000    0.000    0.000    0.000 numeric.py:414(asarray)\n",
      "        1    0.000    0.000    0.000    0.000 numeric.py:607(require)\n",
      "        2    0.000    0.000    0.000    0.000 numeric.py:676(<genexpr>)\n",
      "        4    0.000    0.000    0.000    0.000 parse.py:101(_coerce_args)\n",
      "        2    0.000    0.000    0.000    0.000 parse.py:351(urlparse)\n",
      "        2    0.000    0.000    0.000    0.000 parse.py:384(urlsplit)\n",
      "        4    0.000    0.000    0.000    0.000 parse.py:90(_noop)\n",
      "        1    0.000    0.000    0.000    0.000 parsers.py:1022(__init__)\n",
      "        1    0.000    0.000    0.000    0.000 parsers.py:1087(_has_complex_date_col)\n",
      "        1    0.000    0.000    0.000    0.000 parsers.py:1162(_maybe_dedup_names)\n",
      "        2    0.000    0.000    0.000    0.000 parsers.py:1182(_maybe_make_multi_index_columns)\n",
      "        2    0.000    0.000    0.000    0.000 parsers.py:1186(<listcomp>)\n",
      "        1    0.000    0.000    0.000    0.000 parsers.py:1190(_make_index)\n",
      "        1    0.000    0.000    0.000    0.000 parsers.py:1359(_do_date_conversions)\n",
      "        1    0.001    0.001    0.001    0.001 parsers.py:1374(__init__)\n",
      "        1    0.000    0.000    0.000    0.000 parsers.py:1457(close)\n",
      "        1    0.000    0.000    0.000    0.000 parsers.py:1467(_set_noconvert_columns)\n",
      "        1    0.000    0.000    0.001    0.001 parsers.py:1506(read)\n",
      "        1    0.000    0.000    0.000    0.000 parsers.py:1581(<listcomp>)\n",
      "        8    0.000    0.000    0.000    0.000 parsers.py:1583(<genexpr>)\n",
      "        1    0.000    0.000    0.000    0.000 parsers.py:2641(_make_date_converter)\n",
      "        1    0.000    0.000    0.000    0.000 parsers.py:2679(_process_date_conversion)\n",
      "        1    0.000    0.000    0.000    0.000 parsers.py:2762(_clean_na_values)\n",
      "        1    0.000    0.000    0.000    0.000 parsers.py:326(_validate_nrows)\n",
      "        1    0.000    0.000    0.004    0.004 parsers.py:346(_read)\n",
      "        1    0.000    0.000    0.004    0.004 parsers.py:494(parser_f)\n",
      "        1    0.000    0.000    0.001    0.001 parsers.py:687(__init__)\n",
      "        1    0.000    0.000    0.000    0.000 parsers.py:732(close)\n",
      "        1    0.000    0.000    0.000    0.000 parsers.py:735(_get_options_with_defaults)\n",
      "        1    0.000    0.000    0.000    0.000 parsers.py:772(_clean_options)\n",
      "        1    0.000    0.000    0.001    0.001 parsers.py:921(_make_engine)\n",
      "        1    0.000    0.000    0.003    0.003 parsers.py:934(read)\n",
      "        1    0.000    0.000    0.000    0.000 parsers.py:965(_create_index)\n",
      "        3    0.000    0.000    0.000    0.000 parsers.py:975(_is_index_col)\n",
      "        1    0.000    0.000    0.000    0.000 parsers.py:979(_validate_usecols_arg)\n",
      "        1    0.000    0.000    0.000    0.000 parsers.py:999(_validate_parse_dates_arg)\n",
      "        1    0.000    0.000    0.000    0.000 posixpath.py:230(expanduser)\n",
      "        1    0.000    0.000    0.000    0.000 range.py:124(_simple_new)\n",
      "        1    0.000    0.000    0.000    0.000 range.py:151(_validate_dtype)\n",
      "        1    0.000    0.000    0.000    0.000 range.py:44(__new__)\n",
      "       10    0.000    0.000    0.000    0.000 range.py:458(__len__)\n",
      "        2    0.000    0.000    0.000    0.000 range.py:60(_ensure_int)\n",
      "        7    0.000    0.000    0.001    0.000 series.py:2817(_sanitize_array)\n",
      "        7    0.000    0.000    0.000    0.000 series.py:2834(_try_cast)\n",
      "        5    0.000    0.000    0.000    0.000 {built-in method __new__ of type object at 0x10d3914e0}\n",
      "        2    0.000    0.000    0.000    0.000 {built-in method builtins.all}\n",
      "        1    0.000    0.000    0.004    0.004 {built-in method builtins.exec}\n",
      "       87    0.000    0.000    0.000    0.000 {built-in method builtins.getattr}\n",
      "       77    0.000    0.000    0.000    0.000 {built-in method builtins.hasattr}\n",
      "        7    0.000    0.000    0.000    0.000 {built-in method builtins.hash}\n",
      "      311    0.000    0.000    0.000    0.000 {built-in method builtins.isinstance}\n",
      "       77    0.000    0.000    0.000    0.000 {built-in method builtins.issubclass}\n",
      "        8    0.000    0.000    0.000    0.000 {built-in method builtins.iter}\n",
      "    68/62    0.000    0.000    0.000    0.000 {built-in method builtins.len}\n",
      "       10    0.000    0.000    0.000    0.000 {built-in method builtins.max}\n",
      "        7    0.000    0.000    0.000    0.000 {built-in method builtins.min}\n",
      "        1    0.000    0.000    0.000    0.000 {built-in method builtins.next}\n",
      "        1    0.000    0.000    0.000    0.000 {built-in method builtins.sorted}\n",
      "        1    0.000    0.000    0.000    0.000 {built-in method builtins.sum}\n",
      "        2    0.000    0.000    0.000    0.000 {built-in method numpy.core.multiarray.arange}\n",
      "       26    0.000    0.000    0.000    0.000 {built-in method numpy.core.multiarray.array}\n",
      "        3    0.000    0.000    0.000    0.000 {built-in method numpy.core.multiarray.empty}\n",
      "        2    0.000    0.000    0.000    0.000 {built-in method pandas.algos.ensure_object}\n",
      "        1    0.000    0.000    0.000    0.000 {built-in method pandas.lib.array_equivalent_object}\n",
      "        1    0.000    0.000    0.000    0.000 {built-in method pandas.lib.list_to_object_array}\n",
      "        1    0.000    0.000    0.000    0.000 {built-in method posix.fspath}\n",
      "        1    0.000    0.000    0.000    0.000 {built-in method sys.getfilesystemencoding}\n",
      "        1    0.000    0.000    0.000    0.000 {method 'any' of 'numpy.ndarray' objects}\n",
      "       29    0.000    0.000    0.000    0.000 {method 'append' of 'list' objects}\n",
      "        1    0.000    0.000    0.000    0.000 {method 'close' of 'pandas.parser.TextReader' objects}\n",
      "        2    0.000    0.000    0.000    0.000 {method 'copy' of 'dict' objects}\n",
      "        1    0.000    0.000    0.000    0.000 {method 'disable' of '_lsprof.Profiler' objects}\n",
      "        1    0.000    0.000    0.000    0.000 {method 'encode' of 'str' objects}\n",
      "        4    0.000    0.000    0.000    0.000 {method 'endswith' of 'str' objects}\n",
      "        1    0.000    0.000    0.000    0.000 {method 'extend' of 'list' objects}\n",
      "        2    0.000    0.000    0.000    0.000 {method 'fill' of 'numpy.ndarray' objects}\n",
      "        4    0.000    0.000    0.000    0.000 {method 'format' of 'str' objects}\n",
      "       70    0.000    0.000    0.000    0.000 {method 'get' of 'dict' objects}\n",
      "        7    0.000    0.000    0.000    0.000 {method 'items' of 'dict' objects}\n",
      "       10    0.000    0.000    0.000    0.000 {method 'pop' of 'dict' objects}\n",
      "        2    0.000    0.000    0.000    0.000 {method 'ravel' of 'numpy.ndarray' objects}\n",
      "        1    0.001    0.001    0.001    0.001 {method 'read' of 'pandas.parser.TextReader' objects}\n",
      "        1    0.000    0.000    0.000    0.000 {method 'reduce' of 'numpy.ufunc' objects}\n",
      "        3    0.000    0.000    0.000    0.000 {method 'rpartition' of 'str' objects}\n",
      "        1    0.000    0.000    0.000    0.000 {method 'startswith' of 'str' objects}\n",
      "        1    0.000    0.000    0.000    0.000 {method 'upper' of 'str' objects}\n",
      "        1    0.000    0.000    0.000    0.000 {method 'values' of 'dict' objects}\n",
      "        4    0.000    0.000    0.000    0.000 {method 'view' of 'numpy.ndarray' objects}\n",
      "        1    0.000    0.000    0.000    0.000 {pandas.lib.clean_index_list}\n",
      "        9    0.000    0.000    0.000    0.000 {pandas.lib.infer_dtype}\n",
      "        1    0.000    0.000    0.000    0.000 {pandas.lib.is_bool}\n",
      "        1    0.000    0.000    0.000    0.000 {pandas.lib.is_integer}\n",
      "        4    0.000    0.000    0.000    0.000 {pandas.lib.isscalar}\n",
      "        2    0.000    0.000    0.000    0.000 {pandas.lib.values_from_object}\n",
      "\n",
      "\n"
     ]
    }
   ],
   "source": [
    "import cProfile\n",
    "import pandas as pd #needed because your testing the time to import some data using pandas\n",
    "\n",
    "# pd.read_csv('numbers.csv')\n",
    "cProfile.run(\"pd.read_csv('numbers.csv')\")"
   ]
  },
  {
   "cell_type": "code",
   "execution_count": null,
   "metadata": {
    "collapsed": true
   },
   "outputs": [],
   "source": []
  }
 ],
 "metadata": {
  "kernelspec": {
   "display_name": "Python 3",
   "language": "python",
   "name": "python3"
  },
  "language_info": {
   "codemirror_mode": {
    "name": "ipython",
    "version": 3
   },
   "file_extension": ".py",
   "mimetype": "text/x-python",
   "name": "python",
   "nbconvert_exporter": "python",
   "pygments_lexer": "ipython3",
   "version": "3.6.0"
  }
 },
 "nbformat": 4,
 "nbformat_minor": 2
}
