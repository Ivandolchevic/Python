{
 "cells": [
  {
   "cell_type": "markdown",
   "metadata": {},
   "source": [
    "# Training Resources"
   ]
  },
  {
   "cell_type": "markdown",
   "metadata": {},
   "source": [
    "## Courses\n",
    "\n",
    "\n",
    "### Becoming a datascientist\n",
    "https://www.becomingadatascientist.com/learningclub/\n",
    "becoming a data science learning club\n",
    "\n",
    ">3 star\n",
    "\n",
    "### codecademy\n",
    "https://www.codecademy.com/learn/learn-python\n",
    "\n",
    "### coursera\n",
    "https://www.coursera.org/specializations/jhu-data-science\n",
    ">Johns Hopkins University : Intro to data science Course\n",
    "\n",
    ">5 star\n",
    "\n",
    "https://www.coursera.org/learn/python-data-analysis#\n",
    ">University of Michigan : Introduction to Data Science in Python\n",
    "\n",
    ">5 star\n",
    "\n",
    "\n",
    "### Datacamp\n",
    "https://www.datacamp.com/home\n",
    ">Python, R , github and sql training for data science\n",
    "\n",
    ">5 star\n",
    "\n",
    "### Microsoft MVA - introduction to programming with python\n",
    "https://mva.microsoft.com/en-US/training-courses/introduction-to-programming-with-python-8360?l=lqhuMxFz_8904984382\n",
    ">Microsoft Virtual Academy\n",
    "\n",
    ">4 star\n",
    "\n",
    "## Microsoft MVA - data science and machine learning essentials\n",
    "https://mva.microsoft.com/en-US/training-courses/data-science-and-machine-learning-essentials-14100?l=UyhoTxWdB_3505050723\n",
    ">Microsoft Virtual Academy\n",
    "\n",
    ">4 star\n",
    "\n",
    "### python-course.eu\n",
    "http://www.python-course.eu/\n",
    "\n",
    "### Udacity\n",
    "https://eu.udacity.com/\n",
    "'*****'\n",
    "- nano degrees "
   ]
  },
  {
   "cell_type": "markdown",
   "metadata": {},
   "source": [
    "# Data Camp Resources\n",
    "\n",
    "https://www.datacamp.com/home - DataCamp website site\n",
    "\n",
    "https://datacamp-global.slack.com/ - slack discussion group \n",
    "\n",
    "https://trello.com/b/JSLbBqWB/datacamp-course-roadmap - course development Roadmap\n",
    "\n",
    "https://www.datacamp.com/community/blog - Datacamp Blog\n",
    "\n",
    "https://www.datacamp.com/community/open-courses - Free content from datacamp community\n",
    "\n",
    "https://www.pluralsight.com - Pluralsight"
   ]
  },
  {
   "cell_type": "markdown",
   "metadata": {},
   "source": [
    "## Practice Exercices¶\n",
    "http://exercism.io - Crowd-sourced code mentorship.\n",
    "\n",
    "https://www.hackerrank.com/ - coding practice exercises"
   ]
  },
  {
   "cell_type": "markdown",
   "metadata": {},
   "source": [
    "## Competitions\n",
    "\n",
    "https://www.kaggle.com/competitions - Kaggle data science challenges\n",
    "\n",
    "http://www.pythonchallenge.com/ - Logical problems that you can use python to solve\n",
    "\n",
    "https://www.hackerearth.com/ - Programming Challenges & Coding Competitions\n",
    "\n",
    "http://idao.world/ - data science olympiad"
   ]
  },
  {
   "cell_type": "markdown",
   "metadata": {
    "collapsed": true
   },
   "source": [
    "# Tools\n",
    "\n",
    "https://demos.explosion.ai/displacy-ent/ - DiSpaCy NLP / NER tool\n",
    "\n",
    "https://regex101.com/ - Online RegEx tester\n",
    "\n",
    "https://colab.research.google.com - Googles version on juypter notebooks using google docs for file storage\n",
    "\n",
    "http://www.science.smith.edu/dftwiki/index.php/Color_Charts_for_TKinter - colour reference chart"
   ]
  },
  {
   "cell_type": "markdown",
   "metadata": {},
   "source": [
    "# Geeky Data Science Stuff\n",
    "\n",
    "https://s3.amazonaws.com/assets.datacamp.com/blog_assets/Data-Science-Periodic-Table.pdf - The Periodic Table of Data Science Infographic\n",
    "\n",
    "http://www.marketingdistillery.com/wp-content/uploads/2014/11/mds_f.png - Modern Data Scientist Infographic\n",
    "\n",
    "https://cdn2.hubspot.net/hub/395829/file-2619018693-jpg/TheEvolutionofForecasting-03-15ENJPG.jpg#keepProtocol - Evalution of Forecasting Infographic\n",
    "\n",
    "https://mldatageek.herokuapp.com/questions/ - Machine Learning & Data Science technical interview questions\n"
   ]
  },
  {
   "cell_type": "code",
   "execution_count": null,
   "metadata": {
    "collapsed": true
   },
   "outputs": [],
   "source": []
  }
 ],
 "metadata": {
  "kernelspec": {
   "display_name": "Python 3",
   "language": "python",
   "name": "python3"
  },
  "language_info": {
   "codemirror_mode": {
    "name": "ipython",
    "version": 3
   },
   "file_extension": ".py",
   "mimetype": "text/x-python",
   "name": "python",
   "nbconvert_exporter": "python",
   "pygments_lexer": "ipython3",
   "version": "3.6.0"
  }
 },
 "nbformat": 4,
 "nbformat_minor": 2
}
