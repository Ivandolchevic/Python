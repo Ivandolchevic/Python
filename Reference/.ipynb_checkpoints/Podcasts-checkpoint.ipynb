{
 "cells": [
  {
   "cell_type": "markdown",
   "metadata": {},
   "source": [
    "# Podcasts\n",
    "\n",
    "## becoming a data scientist\n",
    "\n",
    "https://www.becomingadatascientist.com/category/podcast/\n",
    "\n",
    "## dataframed\n",
    "\n",
    "https://www.datacamp.com/community/podcast - DataCamp’s official podcast\n",
    "\n",
    "## datasciguide\n",
    "\n",
    "http://www.datasciguide.com/content/data-science-at-home/\n",
    "\n",
    "## datastories\n",
    "\n",
    "http://datastori.es/ - A podcast on data visualization!\n",
    "\n",
    "## partiallyderivative\n",
    "\n",
    "http://partiallyderivative.com/ - Car talk for the data community!\n",
    "\n",
    "## pythonbytes\n",
    "\n",
    "https://pythonbytes.fm/ -Python headlines delivered to your ear buds!\n",
    "\n",
    "## o'reilly training\n",
    "https://training.oreilly.com/topics/oreilly-data-show-podcast - A data podcast by O'Reilly media.\n",
    "\n",
    "## talkpython\n",
    "\n",
    "https://talkpython.fm/ - A podcast on Python and related technologies!\n"
   ]
  },
  {
   "cell_type": "code",
   "execution_count": null,
   "metadata": {
    "collapsed": true
   },
   "outputs": [],
   "source": []
  }
 ],
 "metadata": {
  "kernelspec": {
   "display_name": "Python 3",
   "language": "python",
   "name": "python3"
  },
  "language_info": {
   "codemirror_mode": {
    "name": "ipython",
    "version": 3
   },
   "file_extension": ".py",
   "mimetype": "text/x-python",
   "name": "python",
   "nbconvert_exporter": "python",
   "pygments_lexer": "ipython3",
   "version": "3.6.0"
  }
 },
 "nbformat": 4,
 "nbformat_minor": 2
}
