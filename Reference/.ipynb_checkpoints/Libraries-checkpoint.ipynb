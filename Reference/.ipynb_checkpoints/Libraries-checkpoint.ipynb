{
 "cells": [
  {
   "cell_type": "markdown",
   "metadata": {},
   "source": [
    "# Useful Libraries"
   ]
  },
  {
   "cell_type": "markdown",
   "metadata": {},
   "source": [
    "# Api's and the web\n",
    "\n",
    "Json - Module deals with processing api's and json\n",
    "\n",
    "\n",
    "tweepy - Module deals with twitter api"
   ]
  },
  {
   "cell_type": "markdown",
   "metadata": {},
   "source": [
    "# Databases\n",
    "\n",
    "from sqlalchemy import select, Table, MetaData\n",
    "\n",
    "functions include : createengine, select, Table, MetaData, and_"
   ]
  },
  {
   "cell_type": "markdown",
   "metadata": {
    "collapsed": true
   },
   "source": [
    "# Debugging and Testing\n",
    "\n",
    "import cProfile - allows you to test the time it takes to load data into pandas.\n",
    "\n",
    "import timeit - allows you to test how long different elements of your code take to run."
   ]
  },
  {
   "cell_type": "markdown",
   "metadata": {},
   "source": [
    "# Functions\n",
    "\n",
    "from functools import reduce"
   ]
  },
  {
   "cell_type": "markdown",
   "metadata": {},
   "source": [
    "# GUI\n",
    "\n",
    "TKinter - Module "
   ]
  },
  {
   "cell_type": "markdown",
   "metadata": {},
   "source": [
    "# Importing and exporting\n",
    "\n",
    "import pickle"
   ]
  },
  {
   "cell_type": "markdown",
   "metadata": {},
   "source": [
    "# Natural Language Pocessing\n",
    "\n",
    "import re # regular expressions\n",
    "\n",
    "import nltk #import entire nltk module\n",
    "\n",
    "from nltk.corpus import stopword\n",
    "\n",
    "from nltk.tokenize import sent_tokenize\n",
    "\n",
    "from nltk.tokenize import regexp_tokenize\n",
    "\n",
    "from nltk.tokenize import regexp_tokenize\n",
    "\n",
    "from collections import Counter \n",
    "\n",
    "from gensim.corpora.dictionary import Dictionary #gensim corpora\n",
    "\n",
    "from gensim.models.tfidfmodel import TfidfModel # term frequency inverse document frequency\n",
    "\n",
    "import spacy #NLP pipelines to generate models and corpora\n",
    "\n",
    "from polyglot.text import Text #forign language nlp module\n",
    "\n",
    "from sklearn.model_selection import train_test_split\n",
    "\n",
    "from sklearn.feature_extraction.text import CountVectorizer\n",
    "\n",
    "from sklearn.feature_extraction.text import TfidfVectorizer\n",
    "\n",
    "from sklearn.naive_bayes import MultinomialNB\n",
    "\n",
    "from sklearn import metrics"
   ]
  },
  {
   "cell_type": "markdown",
   "metadata": {},
   "source": [
    "# Network | Graph\n",
    "\n",
    "import networkx as nx\n",
    "\n",
    "import nxviz as nv\n",
    "\n",
    "from nxviz.plots import CircosPlot\n",
    "\n",
    "from itertools import combinations"
   ]
  },
  {
   "cell_type": "markdown",
   "metadata": {},
   "source": [
    "# Numbers\n",
    "\n",
    "Numpy np - module that handles numbers\n",
    "\n",
    "Pandas pd - module used with dataframes"
   ]
  },
  {
   "cell_type": "markdown",
   "metadata": {},
   "source": [
    "# OS\n",
    "\n",
    "import os - allows access to Operating system\n",
    "\n",
    "import webbrowser - allows access to web browser\n",
    "\n",
    "import time - allows access to date/time"
   ]
  },
  {
   "cell_type": "markdown",
   "metadata": {},
   "source": [
    "# Scientific\n",
    "\n",
    "SciPy - Module "
   ]
  },
  {
   "cell_type": "markdown",
   "metadata": {},
   "source": [
    "# Statistical\n",
    "\n",
    "Numpy - general statistics\n",
    "\n",
    "scipy.stats - statistical interance\n",
    "\n",
    "statsmodels - statistical models and interance"
   ]
  },
  {
   "cell_type": "markdown",
   "metadata": {},
   "source": [
    "# Sys Ops\n",
    "\n",
    "nmap - network scanning"
   ]
  },
  {
   "cell_type": "markdown",
   "metadata": {},
   "source": [
    "# Visualisation\n",
    "\n",
    "\n",
    "Matplotlib plt - Module deals with plotting graphs\n",
    "\n",
    "Seaborn as sns - Module deals with statistical data virtualization\n",
    "\n",
    "Bokeh - interactive visualisations"
   ]
  },
  {
   "cell_type": "code",
   "execution_count": null,
   "metadata": {
    "collapsed": true
   },
   "outputs": [],
   "source": []
  }
 ],
 "metadata": {
  "kernelspec": {
   "display_name": "Python 3",
   "language": "python",
   "name": "python3"
  },
  "language_info": {
   "codemirror_mode": {
    "name": "ipython",
    "version": 3
   },
   "file_extension": ".py",
   "mimetype": "text/x-python",
   "name": "python",
   "nbconvert_exporter": "python",
   "pygments_lexer": "ipython3",
   "version": "3.6.0"
  }
 },
 "nbformat": 4,
 "nbformat_minor": 2
}
