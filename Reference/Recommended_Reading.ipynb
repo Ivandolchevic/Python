{
 "cells": [
  {
   "cell_type": "markdown",
   "metadata": {},
   "source": [
    "# Reading List\n",
    "\n",
    "Data Science consists of many different disciplines from probability and statistics to analysis and visualisation but also including programming and data processing. There are a lot of books on the subject, this list cover but a few of the books that i have come across on the subject."
   ]
  },
  {
   "cell_type": "markdown",
   "metadata": {},
   "source": [
    "## Data Science\n",
    "\n",
    "Big Data: Big Data: A Revolution that will Transform how we Live, Work and Think by Viktor Mayer-Schonberger and Kenneth Cukier.\n",
    "\n",
    "Breaking Data Science Open by Michele Chambers, Christine Doig & Ian Stokes-Rees (O'Reilly)\n",
    "\n",
    "Building Data Science Teams by DJ Patil\n",
    "\n",
    "Data and Goliath: The Hidden Battles to Collect Your Data and Control Your World by Bruce Schneier\n",
    "\n",
    "Data Mining by Pang Ning Tan\n",
    "\n",
    "Doing Data Science by Rachel Schutt and Cathy O’Neil (O'Reilly)\n",
    "\n",
    "Information Theory, Inference and Learning Algorithms by David MacKay. *\n",
    "\n",
    "Pattern Recognition and Machine Learning by Christopher Bishop\n",
    "\n",
    "Predictive Analytics: The Power to Predict Who Will Click, Buy, Lie or Die by Eric Siegel\n",
    "\n",
    "Probability Theory, the Logic of Science' by ET Jaynes *\n",
    "\n",
    "Smart Cities - Big Data, Civic Hackers, and the Quest for a New Utopia by Anthony M. Townsend\n",
    "\n",
    "The Data Science Handbook by Carl Shan, Henry Wang, William Chen and Max Song\n",
    "\n",
    "The Human Face of Big Data, by Rick Smolan and Jennifer Erwitt *\n",
    "\n",
    "The Signal and the Noise: The Art and Science of Prediction by Nate Silver \n",
    "\n",
    "Thinking with Data by Max Shron (O'Reilly)\n",
    "\n",
    "What is Data Science by Mike Loukides (O'Reilly)"
   ]
  },
  {
   "cell_type": "markdown",
   "metadata": {},
   "source": [
    "## Data Visualisation\n",
    "\n",
    "Beautiful Data edited by Toby Segaran & Jeff Hammerbacher (O'Reilly)\n",
    "\n",
    "Beautiful Visualization edited by Julie Steele & Noah lliinsky (O'Reilly)\n",
    "\n",
    "Data Visualization a successful design process by Andy Kirk (Packt)\n",
    "\n",
    "Effective Data Visualization: The Right Chart for the Right Data by Stephanie D. H. Evergreen \n",
    "\n",
    "Good Charts: The HBR Guide to Making Smarter, More Persuasive Data Visualizations\n",
    "by Scott Berinato\n",
    "\n",
    "Information is Beautiful by David McCandless (Harper Collins)\n",
    "\n",
    "Storytelling with Data: A Data Visualization Guide for Business Professionals by Cole Nussbaumer Knaflic (Wiley)\n",
    "\n",
    "Visualizing Data by Ben Fry (O'Reilly)\n",
    "\n",
    "Visual Intelligence by Mark Stacey, Joe Salvatore & Adam Jorgensen (Wiley)\n",
    "\n",
    "Visualize This: The FlowingData Guide to Design, Visualization, and Statistics by Nathan Yau"
   ]
  },
  {
   "cell_type": "markdown",
   "metadata": {},
   "source": [
    "## Statistics\n",
    "\n",
    "Elements of Statistical Learning by Trevor Hastie, Robert Tibshirani & Jerome Friedman (Springer - free)\n",
    "\n",
    "Introduction to Statistical Learning by Gareth James, Daniela Witten, Trevor Hastie, Robert Tibshirani (Springer)\n",
    "\n",
    "Statistics in a Nutshell by Sarah Boslaugh & Paul Andrew Watters (O'Reilly)\n",
    "\n",
    "Think Stats by Allen B. Downey (O’Reilly - free)"
   ]
  },
  {
   "cell_type": "markdown",
   "metadata": {},
   "source": [
    "## Python\n",
    "\n",
    "Data Science from Scratch by Joel Grus (O'Reilly)\n",
    "\n",
    "Python Data Visualization cookbook by Igor Milovanovic (Packt)\n",
    "\n",
    "Python for Data Analysis by Wes McKinney (O'Reilly)\n",
    "\n",
    "Python machine learning - sebastian Raschka (episode 8)\n",
    "\n",
    "Python Algorithms by Magnus Lie Hetland (Apress)\n",
    "\n",
    "Think Python by Allen b. Downey (O'Reilly)"
   ]
  },
  {
   "cell_type": "markdown",
   "metadata": {},
   "source": [
    "## R\n"
   ]
  },
  {
   "cell_type": "markdown",
   "metadata": {},
   "source": [
    "## Used in Activities\n",
    "Statistics in a Nutshell (activity 4)"
   ]
  },
  {
   "cell_type": "markdown",
   "metadata": {},
   "source": [
    "## Mentioned in podcasts\n",
    "“Guerrilla Analytics. A practical Approach to Working with Data: The Savvy Manager’s Guide” - Enda Ridge (episode 7)\n",
    "\n",
    "Python machine learning -  sebastian Raschka (episode 8)\n",
    "\n",
    "Elements of Statistical Learning"
   ]
  }
 ],
 "metadata": {
  "kernelspec": {
   "display_name": "Python 3",
   "language": "python",
   "name": "python3"
  },
  "language_info": {
   "codemirror_mode": {
    "name": "ipython",
    "version": 3
   },
   "file_extension": ".py",
   "mimetype": "text/x-python",
   "name": "python",
   "nbconvert_exporter": "python",
   "pygments_lexer": "ipython3",
   "version": "3.6.0"
  }
 },
 "nbformat": 4,
 "nbformat_minor": 2
}
