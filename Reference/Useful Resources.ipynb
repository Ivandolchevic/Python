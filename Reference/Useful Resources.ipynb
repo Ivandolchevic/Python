{
 "cells": [
  {
   "cell_type": "markdown",
   "metadata": {},
   "source": [
    "# Useful Resources"
   ]
  },
  {
   "cell_type": "markdown",
   "metadata": {},
   "source": [
    "# Websites\n",
    "\n",
    "https://www.python.org/ - main python site\n",
    "\n",
    "http://matplotlib.org/py-modindex.html - matplotlib graphing site\n",
    "\n",
    "https://developers.google.com/edu/python/ - Googles Python Classroom\n"
   ]
  },
  {
   "cell_type": "markdown",
   "metadata": {},
   "source": [
    "# Blogs\n",
    "\n",
    "http://www.pythonforbeginners.com/ - python for beginners\n",
    "\n",
    "http://love-python.blogspot.co.uk - lots of little code snippets\n",
    "\n",
    "https://pymotw.com/3/ - python Module of the week\n",
    "\n",
    "https://www.fullstackpython.com/blog.html - lots of detailed how to's\n",
    "\n"
   ]
  },
  {
   "cell_type": "markdown",
   "metadata": {},
   "source": [
    "# Podcasts\n",
    "\n",
    "https://talkpython.fm/\n",
    "\n",
    "https://pythonbytes.fm/"
   ]
  },
  {
   "cell_type": "markdown",
   "metadata": {},
   "source": [
    "# Data Camp Resources\n",
    "\n",
    "https://www.datacamp.com/home - DataCamp website site\n",
    "\n",
    "https://datacamp-global.slack.com/ - slack discussion group \n",
    "\n",
    "https://trello.com/b/JSLbBqWB/datacamp-course-roadmap - course development Roadmap\n",
    "\n",
    "https://www.datacamp.com/community/blog - Datacamp Blog\n",
    "\n",
    "https://www.datacamp.com/community/open-courses - Free content from datacamp community"
   ]
  },
  {
   "cell_type": "markdown",
   "metadata": {
    "collapsed": true
   },
   "source": [
    "# Tools\n",
    "\n",
    "https://demos.explosion.ai/displacy-ent/ - DiSpaCy NLP / NER tool"
   ]
  },
  {
   "cell_type": "markdown",
   "metadata": {},
   "source": [
    "# Books\n",
    "\n",
    "Python Data Visualization cookbook by Igor Milovanovic (Packt)\n",
    "\n",
    "Python for Data Analysis by Wes McKinney (O'Reilly)\n",
    "\n",
    "Python machine learning - sebastian Raschka (episode 8)\n",
    "\n",
    "Python Algorithms by Magnus Lie Hetland (Apress)\n",
    "\n",
    "Think Python by Allen b. Downey (O'Reilly)\n",
    "\n",
    "Data Science from Scratch by Joel Grus (O'Reilly)"
   ]
  },
  {
   "cell_type": "code",
   "execution_count": null,
   "metadata": {
    "collapsed": true
   },
   "outputs": [],
   "source": []
  }
 ],
 "metadata": {
  "kernelspec": {
   "display_name": "Python 3",
   "language": "python",
   "name": "python3"
  },
  "language_info": {
   "codemirror_mode": {
    "name": "ipython",
    "version": 3
   },
   "file_extension": ".py",
   "mimetype": "text/x-python",
   "name": "python",
   "nbconvert_exporter": "python",
   "pygments_lexer": "ipython3",
   "version": "3.6.0"
  }
 },
 "nbformat": 4,
 "nbformat_minor": 2
}
