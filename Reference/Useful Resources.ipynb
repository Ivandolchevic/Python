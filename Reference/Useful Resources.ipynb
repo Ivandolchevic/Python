{
 "cells": [
  {
   "cell_type": "markdown",
   "metadata": {},
   "source": [
    "# Useful Resources"
   ]
  },
  {
   "cell_type": "markdown",
   "metadata": {},
   "source": [
    "# Websites\n",
    "\n",
    "https://www.python.org/ - main python site\n",
    "\n",
    "https://bokeh.pydata.org/en/latest/ - bokeh visualisation tools\n",
    "\n",
    "http://matplotlib.org/py-modindex.html - matplotlib graphing site\n",
    "\n",
    "https://developers.google.com/edu/python/ - Googles Python Classroom\n"
   ]
  },
  {
   "cell_type": "markdown",
   "metadata": {},
   "source": [
    "# Blogs\n",
    "\n",
    "http://www.pythonforbeginners.com/ - python for beginners\n",
    "\n",
    "http://love-python.blogspot.co.uk - lots of little code snippets\n",
    "\n",
    "https://pymotw.com/3/ - python Module of the week\n",
    "\n",
    "https://www.fullstackpython.com/blog.html - lots of detailed how to's\n",
    "\n",
    "http://www.becomingadatascientist.com/ - data science blog and podcast\n"
   ]
  },
  {
   "cell_type": "markdown",
   "metadata": {},
   "source": [
    "# Competitions\n",
    "\n",
    "https://www.kaggle.com/competitions - Kaggle data science challenges\n",
    "\n",
    "http://www.pythonchallenge.com/ - Logical problems that you can use python to solve"
   ]
  },
  {
   "cell_type": "markdown",
   "metadata": {},
   "source": [
    "# github Repositories\n",
    "\n",
    "https://github.com/jdwittenauer/ipython-notebooks - intro to python course\n",
    "\n",
    "https://github.com/geekcomputers/Python - lots of useful .py code"
   ]
  },
  {
   "cell_type": "markdown",
   "metadata": {},
   "source": [
    "# Data Camp Resources\n",
    "\n",
    "https://www.datacamp.com/home - DataCamp website site\n",
    "\n",
    "https://datacamp-global.slack.com/ - slack discussion group \n",
    "\n",
    "https://trello.com/b/JSLbBqWB/datacamp-course-roadmap - course development Roadmap\n",
    "\n",
    "https://www.datacamp.com/community/blog - Datacamp Blog\n",
    "\n",
    "https://www.datacamp.com/community/open-courses - Free content from datacamp community"
   ]
  },
  {
   "cell_type": "markdown",
   "metadata": {},
   "source": [
    "# Other Courses\n",
    "\n",
    "https://www.becomingadatascientist.com/learningclub/ - becoming a data science learning club\n",
    "\n",
    "https://mva.microsoft.com/en-US/training-courses/introduction-to-programming-with-python-8360?l=lqhuMxFz_8904984382\n",
    "\n",
    "https://mva.microsoft.com/en-US/training-courses/data-science-and-machine-learning-essentials-14100?l=UyhoTxWdB_3505050723\n",
    "\n",
    "https://www.codecademy.com/learn/learn-python\n",
    "\n",
    "http://www.python-course.eu/\n",
    "\n",
    "https://www.coursera.org/specializations/jhu-data-science - Johns Hopkins University : Intro to data science Course\n",
    "\n",
    "https://www.coursera.org/learn/python-data-analysis# - University of Michigan : Introduction to Data Science in Python"
   ]
  },
  {
   "cell_type": "markdown",
   "metadata": {},
   "source": [
    "# Geeky Data Science Stuff\n",
    "\n",
    "https://s3.amazonaws.com/assets.datacamp.com/blog_assets/Data-Science-Periodic-Table.pdf - The Periodic Table of Data Science Infographic\n",
    "\n",
    "http://www.marketingdistillery.com/wp-content/uploads/2014/11/mds_f.png - Modern Data Scientist Infographic\n",
    "\n",
    "https://cdn2.hubspot.net/hub/395829/file-2619018693-jpg/TheEvolutionofForecasting-03-15ENJPG.jpg#keepProtocol - Evalution of Forecasting Infographic\n",
    "\n",
    "https://mldatageek.herokuapp.com/questions/ - Machine Learning & Data Science technical interview questions\n"
   ]
  },
  {
   "cell_type": "markdown",
   "metadata": {},
   "source": [
    "# Podcasts\n",
    "\n",
    "https://talkpython.fm/\n",
    "\n",
    "https://pythonbytes.fm/\n",
    "\n",
    "http://www.datasciguide.com/content/data-science-at-home/\n",
    "\n",
    "https://www.becomingadatascientist.com/category/podcast/\n",
    "\n",
    "http://datastori.es/"
   ]
  },
  {
   "cell_type": "markdown",
   "metadata": {
    "collapsed": true
   },
   "source": [
    "# Tools\n",
    "\n",
    "https://demos.explosion.ai/displacy-ent/ - DiSpaCy NLP / NER tool"
   ]
  },
  {
   "cell_type": "markdown",
   "metadata": {},
   "source": [
    "# Books\n",
    "\n",
    "Python Data Visualization cookbook by Igor Milovanovic (Packt)\n",
    "\n",
    "Python for Data Analysis by Wes McKinney (O'Reilly)\n",
    "\n",
    "Python machine learning - sebastian Raschka (episode 8)\n",
    "\n",
    "Python Algorithms by Magnus Lie Hetland (Apress)\n",
    "\n",
    "Think Python by Allen b. Downey (O'Reilly)\n",
    "\n",
    "Data Science from Scratch by Joel Grus (O'Reilly)"
   ]
  },
  {
   "cell_type": "code",
   "execution_count": null,
   "metadata": {
    "collapsed": true
   },
   "outputs": [],
   "source": []
  }
 ],
 "metadata": {
  "kernelspec": {
   "display_name": "Python 3",
   "language": "python",
   "name": "python3"
  },
  "language_info": {
   "codemirror_mode": {
    "name": "ipython",
    "version": 3
   },
   "file_extension": ".py",
   "mimetype": "text/x-python",
   "name": "python",
   "nbconvert_exporter": "python",
   "pygments_lexer": "ipython3",
   "version": "3.6.0"
  }
 },
 "nbformat": 4,
 "nbformat_minor": 2
}
