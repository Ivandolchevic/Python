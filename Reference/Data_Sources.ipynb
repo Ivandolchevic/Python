{
 "cells": [
  {
   "cell_type": "markdown",
   "metadata": {},
   "source": [
    "# Data Sources"
   ]
  },
  {
   "cell_type": "markdown",
   "metadata": {},
   "source": [
    "## Government\n",
    "https://www.data.gov/\n",
    "https://data.gov.uk/\n",
    "http://open.canada.ca/en\n",
    "\n",
    "## Census\n",
    "https://www.census.gov/\n",
    "https://www.ons.gov.uk/timeseriestool\n",
    "\n",
    "## Scientific\n",
    "https://www.opensciencedatacloud.org/\n",
    "\n",
    "## Cultural\n",
    "http://labs.europeana.eu/data\n",
    "\n",
    "## Contests\n",
    "https://www.kaggle.com/\n",
    "https://www.drivendata.org/\n",
    "http://www.makeovermonday.co.uk/data/\n",
    "\n",
    "## APIs\n",
    "http://open-platform.theguardian.com/\n",
    "\n",
    "## Other Sources and Lists\n",
    "https://github.com/caesar0301/awesome-public-datasets#climate-weather\n"
   ]
  },
  {
   "cell_type": "code",
   "execution_count": null,
   "metadata": {
    "collapsed": true
   },
   "outputs": [],
   "source": []
  }
 ],
 "metadata": {
  "kernelspec": {
   "display_name": "Python 3",
   "language": "python",
   "name": "python3"
  },
  "language_info": {
   "codemirror_mode": {
    "name": "ipython",
    "version": 3
   },
   "file_extension": ".py",
   "mimetype": "text/x-python",
   "name": "python",
   "nbconvert_exporter": "python",
   "pygments_lexer": "ipython3",
   "version": "3.6.0"
  }
 },
 "nbformat": 4,
 "nbformat_minor": 2
}
