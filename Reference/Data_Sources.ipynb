{
 "cells": [
  {
   "cell_type": "markdown",
   "metadata": {},
   "source": [
    "# Data Sources"
   ]
  },
  {
   "cell_type": "markdown",
   "metadata": {},
   "source": [
    "## APIs\n",
    "\n",
    "http://open-platform.theguardian.com/\n",
    "\n",
    "## Census\n",
    "\n",
    "https://www.census.gov/\n",
    "\n",
    "https://www.ons.gov.uk/timeseriestool\n",
    "\n",
    "## Climate & Weather\n",
    "\n",
    "https://www.ncdc.noaa.gov/data-access - National Centers for Environmental Information\n",
    "\n",
    "https://weathermap.netatmo.com/ - netatmo community weather map\n",
    "\n",
    "http://www.urbanobservatory.ac.uk/ - City wide climate and weather date from newcastle upon tyne, uk.]\n",
    "\n",
    "https://www.wunderground.com/ - weather underground - meaningful weather data from around the globe\n",
    "\n",
    "\n",
    "\n",
    "## Contests\n",
    "\n",
    "https://www.kaggle.com/\n",
    "\n",
    "https://www.drivendata.org/\n",
    "\n",
    "http://www.makeovermonday.co.uk/data/\n",
    "\n",
    "## Cultural\n",
    "\n",
    "http://labs.europeana.eu/data\n",
    "\n",
    "## Government\n",
    "\n",
    "https://www.data.gov/\n",
    "\n",
    "https://data.gov.uk/\n",
    "\n",
    "https://catalog.data.gov/dataset\n",
    "\n",
    "http://open.canada.ca/en\n",
    "\n",
    "## City\n",
    "\n",
    "https://opendata.cityofnewyork.us/\n",
    "\n",
    "## Fun\n",
    "\n",
    "https://rebrickable.com/downloads/\n",
    "\n",
    "## Machine Learning\n",
    "\n",
    "https://archive.ics.uci.edu/ml/datasets.html\n",
    "\n",
    "## Press\n",
    "\n",
    "https://www.theguardian.com/data\n",
    "\n",
    "\n",
    "## Scholarly & Scientific\n",
    "\n",
    "https://www.opensciencedatacloud.org/ - The Open Science Data Cloud provides the scientific community with resources for storing, sharing, and analyzing terabyte and petabyte-scale scientific datasets.\n",
    "\n",
    "http://datadryad.org/ - The Dryad Digital Repository is a curated resource that makes the data underlying scientific publications discoverable, freely reusable, and citable. Dryad provides a general-purpose home for a wide diversity of datatypes.\n",
    "\n",
    "\n",
    "## Lists of Lists\n",
    "\n",
    "https://github.com/caesar0301/awesome-public-datasets#climate-weather - An Awesome list of Data Sourses\n",
    "\n",
    "https://data.world/ - A platform where the world’s problem solvers can find and use a vast array of high-quality open data. (Requires a user account.)"
   ]
  },
  {
   "cell_type": "code",
   "execution_count": null,
   "metadata": {
    "collapsed": true
   },
   "outputs": [],
   "source": []
  }
 ],
 "metadata": {
  "kernelspec": {
   "display_name": "Python 3",
   "language": "python",
   "name": "python3"
  },
  "language_info": {
   "codemirror_mode": {
    "name": "ipython",
    "version": 3
   },
   "file_extension": ".py",
   "mimetype": "text/x-python",
   "name": "python",
   "nbconvert_exporter": "python",
   "pygments_lexer": "ipython3",
   "version": "3.6.0"
  }
 },
 "nbformat": 4,
 "nbformat_minor": 2
}
