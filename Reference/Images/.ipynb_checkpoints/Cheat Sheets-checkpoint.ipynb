{
 "cells": [
  {
   "cell_type": "markdown",
   "metadata": {},
   "source": [
    "# Cheat sheets\n",
    "\n",
    "https://s3.amazonaws.com/assets.datacamp.com/blog_assets/PythonForDataScience.pdf Python cheat sheet\n",
    "\n",
    "https://s3.amazonaws.com/assets.datacamp.com/blog_assets/PandasPythonForDataScience.pdf Pandas Cheat sheet\n",
    "\n",
    "http://datacamp-community.s3.amazonaws.com/e6b8c7d1-6e9b-41c5-879f-7f82325cb18f Numpy cheat Sheet\n",
    "\n",
    "http://datacamp-community.s3.amazonaws.com/28b8210c-60cc-4f13-b0b4-5b4f2ad4790b Matplotlib CheatSheet\n",
    "\n",
    "https://images.plot.ly/plotly-documentation/images/python_cheat_sheet.pdf Plotly CheatSheet\n",
    "\n",
    "http://datacamp-community.s3.amazonaws.com/f9f06e72-519a-4722-9912-b5de742dbac4 Seaborn Cheet sheet\n",
    "\n",
    "http://datacamp-community.s3.amazonaws.com/f9511cf4-abb9-4f52-9663-ea93b29ee4b7 Bokhen Cheat Sheet\n",
    "\n",
    "http://datacamp-community.s3.amazonaws.com/5433fa18-9f43-44cc-b228-74672efcd116 SciKitLearn CheatSheet\n",
    "\n",
    "http://datacamp-community.s3.amazonaws.com/5710caa7-94d4-4248-be94-d23dea9e668f SciPy CheatSheet\n",
    "\n",
    "http://datacamp-community.s3.amazonaws.com/65076e3c-9df1-40d5-a0c2-36294d9a3ca9 Pyspark\n",
    "\n",
    "https://s3.amazonaws.com/assets.datacamp.com/blog_assets/Jupyter_Notebook_Cheat_Sheet.pdf - Jupyter_Notebook_Cheat_Sheet"
   ]
  }
 ],
 "metadata": {
  "kernelspec": {
   "display_name": "Python 3",
   "language": "python",
   "name": "python3"
  },
  "language_info": {
   "codemirror_mode": {
    "name": "ipython",
    "version": 3
   },
   "file_extension": ".py",
   "mimetype": "text/x-python",
   "name": "python",
   "nbconvert_exporter": "python",
   "pygments_lexer": "ipython3",
   "version": "3.6.0"
  }
 },
 "nbformat": 4,
 "nbformat_minor": 2
}
