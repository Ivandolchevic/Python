{
 "cells": [
  {
   "cell_type": "markdown",
   "metadata": {
    "collapsed": true
   },
   "source": [
    "# Draw a Simple Shape\n",
    "\n",
    "To start with we will define a function that takes 2 arguments size and sides and that uses a Turtle that generates a shape which has x sides of length y. We'll call our Turtle Leo (after Leo from Teenage Ninja Turtles) and Colour his lines Blue."
   ]
  },
  {
   "cell_type": "code",
   "execution_count": 1,
   "metadata": {
    "collapsed": false
   },
   "outputs": [
    {
     "ename": "SystemExit",
     "evalue": "0",
     "output_type": "error",
     "traceback": [
      "An exception has occurred, use %tb to see the full traceback.\n",
      "\u001b[0;31mSystemExit\u001b[0m\u001b[0;31m:\u001b[0m 0\n"
     ]
    },
    {
     "name": "stderr",
     "output_type": "stream",
     "text": [
      "/anaconda/lib/python3.6/site-packages/IPython/core/interactiveshell.py:2889: UserWarning: To exit: use 'exit', 'quit', or Ctrl-D.\n",
      "  warn(\"To exit: use 'exit', 'quit', or Ctrl-D.\", stacklevel=1)\n"
     ]
    }
   ],
   "source": [
    "import turtle\n",
    "\n",
    "def draw_shape(size,sides):\n",
    "    window=turtle.Screen()\n",
    "    window.bgcolor(\"white\")\n",
    "    leo = turtle.Turtle()\n",
    "    leo.color=(\"blue\")\n",
    "    angle=(360/sides)\n",
    "    \n",
    "    count=0\n",
    "    while count < sides:\n",
    "        leo.forward(size)\n",
    "        leo.right(angle)\n",
    "        count=count+1\n",
    "    window.exitonclick()\n",
    "          \n",
    "draw_shape(100,5)\n"
   ]
  },
  {
   "cell_type": "markdown",
   "metadata": {},
   "source": [
    "# Draw a repeated Simple Shape\n",
    "\n",
    "Next lets try to rotate and repeat that simple shape, this time we will define a function that takes 3 arguments size ,sides and repeats and that uses a Turtle that generates a shape which has x sides of length y. We'll call our Turtle Leo (after Leo from Teenage Ninja Turtles) and Colour his lines Blue."
   ]
  },
  {
   "cell_type": "code",
   "execution_count": 1,
   "metadata": {
    "collapsed": false
   },
   "outputs": [],
   "source": [
    "import turtle\n",
    "\n",
    "def repeat_shape(size,sides,repeat):\n",
    "    angle=(360/sides)\n",
    "    rotations=(360/repeat)\n",
    "    window=turtle.Screen()\n",
    "    window.bgcolor(\"white\")\n",
    "    leo = turtle.Turtle()\n",
    "    leo.color=(\"blue\")\n",
    "    angle=(360/sides)\n",
    "    \n",
    "    repeatcount=0\n",
    "    while repeatcount < repeat:\n",
    "        leo.penup() #don't draw when turtle moves\n",
    "        leo.left(rotations) \n",
    "        leo.pendown() #draw when turtle moves\n",
    "        \n",
    "        count=0\n",
    "        while count < sides:\n",
    "            leo.forward(size)\n",
    "            leo.right(angle)\n",
    "            count=count+1\n",
    "        repeatcount=repeatcount+1\n",
    "        canvas = window.getcanvas()\n",
    "        canvas.postscript(file='/Images/RepeatedShape.ps')    \n",
    "    window.exitonclick()\n",
    "          \n",
    "repeat_shape(100,7,14)"
   ]
  },
  {
   "cell_type": "markdown",
   "metadata": {},
   "source": [
    "# Ofset Repeated Shapes\n",
    "\n",
    "Next lets try to rotate and repeat that simple shape, this time we will define a function that takes 3 arguments size ,sides and repeats and that uses a Turtle that generates a shape which has x sides of length y. We'll call our Turtle Leo (after Leo from Teenage Ninja Turtles) and Colour his lines Blue."
   ]
  },
  {
   "cell_type": "code",
   "execution_count": 1,
   "metadata": {
    "collapsed": false
   },
   "outputs": [],
   "source": [
    "import turtle\n",
    "\n",
    "def repeat_shape(size,sides,repeat):\n",
    "    angle=(360/sides)\n",
    "    rotations=(360/repeat)\n",
    "    window=turtle.Screen()\n",
    "    window.bgcolor(\"white\")\n",
    "    leo = turtle.Turtle()\n",
    "    leo.color(\"blue\")\n",
    "    angle=(360/sides)\n",
    "    \n",
    "    repeatcount=0\n",
    "    while repeatcount < (repeat*2):\n",
    "        leo.penup() #don't draw when turtle moves\n",
    "        leo.left(rotations)\n",
    "        leo.forward(10) \n",
    "        leo.left(10)\n",
    "        leo.pendown() #draw when turtle moves\n",
    "        leo.color(\"blue\")\n",
    "        count=0\n",
    "        while count < sides:\n",
    "            leo.forward(size)\n",
    "            leo.right(angle)\n",
    "            count=count+1\n",
    "        repeatcount=repeatcount+1\n",
    "        canvas = window.getcanvas()\n",
    "        canvas.postscript(file='/Images/RepeatedShape.ps')    \n",
    "    window.exitonclick()\n",
    "          \n",
    "repeat_shape(100,7,14)"
   ]
  },
  {
   "cell_type": "markdown",
   "metadata": {},
   "source": [
    "# Drawing a Rainbow of Repeated Shapes\n",
    "\n",
    "Next lets try to rotate and repeat that simple shape, this time we will define a function that takes 3 arguments size ,sides and repeats and that uses a Turtle that generates a shape which has x sides of length y. We'll call our Turtle Leo (after Leo from Teenage Ninja Turtles) and Colour his lines Blue."
   ]
  },
  {
   "cell_type": "code",
   "execution_count": 1,
   "metadata": {
    "collapsed": false
   },
   "outputs": [],
   "source": [
    "import turtle\n",
    "\n",
    "def repeat_shape(size,sides,repeat):\n",
    "    angle=(360/sides)\n",
    "    rotations=(360/repeat)\n",
    "    window=turtle.Screen()\n",
    "    window.bgcolor(\"white\")\n",
    "    leo = turtle.Turtle()\n",
    "    leo.color(\"blue\")\n",
    "    angle=(360/sides)\n",
    "    \n",
    "    colours=[\"red\",\"orange\",\"yellow\",\"green\",\"blue\",\"indigo\",\"violet\"]\n",
    "    for colour in colours:\n",
    "        leo.penup() #don't draw when turtle moves\n",
    "        leo.left(rotations)\n",
    "        leo.forward(10) \n",
    "        leo.left(10)\n",
    "        leo.pendown() #draw when turtle moves\n",
    "        leo.color(colour)\n",
    "        count=0\n",
    "        while count < sides:\n",
    "            leo.forward(size)\n",
    "            leo.right(angle)\n",
    "            count=count+1\n",
    "        canvas = window.getcanvas()\n",
    "        canvas.postscript(file='/Images/RepeatedShape.ps')    \n",
    "    window.exitonclick()\n",
    "          \n",
    "repeat_shape(100,7,14)"
   ]
  },
  {
   "cell_type": "markdown",
   "metadata": {},
   "source": [
    "# A Hurd of Turtles"
   ]
  },
  {
   "cell_type": "code",
   "execution_count": 2,
   "metadata": {
    "collapsed": false
   },
   "outputs": [
    {
     "ename": "Terminator",
     "evalue": "",
     "output_type": "error",
     "traceback": [
      "\u001b[0;31m---------------------------------------------------------------------------\u001b[0m",
      "\u001b[0;31mTerminator\u001b[0m                                Traceback (most recent call last)",
      "\u001b[0;32m<ipython-input-2-26cb6b3878ca>\u001b[0m in \u001b[0;36m<module>\u001b[0;34m()\u001b[0m\n\u001b[1;32m      4\u001b[0m \u001b[0mwn\u001b[0m\u001b[1;33m.\u001b[0m\u001b[0mtitle\u001b[0m\u001b[1;33m(\u001b[0m\u001b[1;34m\"Tess & Alex\"\u001b[0m\u001b[1;33m)\u001b[0m\u001b[1;33m\u001b[0m\u001b[0m\n\u001b[1;32m      5\u001b[0m \u001b[1;33m\u001b[0m\u001b[0m\n\u001b[0;32m----> 6\u001b[0;31m \u001b[0mtess\u001b[0m \u001b[1;33m=\u001b[0m \u001b[0mturtle\u001b[0m\u001b[1;33m.\u001b[0m\u001b[0mTurtle\u001b[0m\u001b[1;33m(\u001b[0m\u001b[1;33m)\u001b[0m       \u001b[1;31m# Create tess and set some attributes\u001b[0m\u001b[1;33m\u001b[0m\u001b[0m\n\u001b[0m\u001b[1;32m      7\u001b[0m \u001b[0mtess\u001b[0m\u001b[1;33m.\u001b[0m\u001b[0mcolor\u001b[0m\u001b[1;33m(\u001b[0m\u001b[1;34m\"hotpink\"\u001b[0m\u001b[1;33m)\u001b[0m\u001b[1;33m\u001b[0m\u001b[0m\n\u001b[1;32m      8\u001b[0m \u001b[0mtess\u001b[0m\u001b[1;33m.\u001b[0m\u001b[0mpensize\u001b[0m\u001b[1;33m(\u001b[0m\u001b[1;36m5\u001b[0m\u001b[1;33m)\u001b[0m\u001b[1;33m\u001b[0m\u001b[0m\n",
      "\u001b[0;32mC:\\Users\\davidc\\AppData\\Local\\Continuum\\Anaconda3\\lib\\turtle.py\u001b[0m in \u001b[0;36m__init__\u001b[0;34m(self, shape, undobuffersize, visible)\u001b[0m\n\u001b[1;32m   3814\u001b[0m                            \u001b[0mshape\u001b[0m\u001b[1;33m=\u001b[0m\u001b[0mshape\u001b[0m\u001b[1;33m,\u001b[0m\u001b[1;33m\u001b[0m\u001b[0m\n\u001b[1;32m   3815\u001b[0m                            \u001b[0mundobuffersize\u001b[0m\u001b[1;33m=\u001b[0m\u001b[0mundobuffersize\u001b[0m\u001b[1;33m,\u001b[0m\u001b[1;33m\u001b[0m\u001b[0m\n\u001b[0;32m-> 3816\u001b[0;31m                            visible=visible)\n\u001b[0m\u001b[1;32m   3817\u001b[0m \u001b[1;33m\u001b[0m\u001b[0m\n\u001b[1;32m   3818\u001b[0m \u001b[0mPen\u001b[0m \u001b[1;33m=\u001b[0m \u001b[0mTurtle\u001b[0m\u001b[1;33m\u001b[0m\u001b[0m\n",
      "\u001b[0;32mC:\\Users\\davidc\\AppData\\Local\\Continuum\\Anaconda3\\lib\\turtle.py\u001b[0m in \u001b[0;36m__init__\u001b[0;34m(self, canvas, shape, undobuffersize, visible)\u001b[0m\n\u001b[1;32m   2555\u001b[0m         \u001b[0mself\u001b[0m\u001b[1;33m.\u001b[0m\u001b[0m_undobuffersize\u001b[0m \u001b[1;33m=\u001b[0m \u001b[0mundobuffersize\u001b[0m\u001b[1;33m\u001b[0m\u001b[0m\n\u001b[1;32m   2556\u001b[0m         \u001b[0mself\u001b[0m\u001b[1;33m.\u001b[0m\u001b[0mundobuffer\u001b[0m \u001b[1;33m=\u001b[0m \u001b[0mTbuffer\u001b[0m\u001b[1;33m(\u001b[0m\u001b[0mundobuffersize\u001b[0m\u001b[1;33m)\u001b[0m\u001b[1;33m\u001b[0m\u001b[0m\n\u001b[0;32m-> 2557\u001b[0;31m         \u001b[0mself\u001b[0m\u001b[1;33m.\u001b[0m\u001b[0m_update\u001b[0m\u001b[1;33m(\u001b[0m\u001b[1;33m)\u001b[0m\u001b[1;33m\u001b[0m\u001b[0m\n\u001b[0m\u001b[1;32m   2558\u001b[0m \u001b[1;33m\u001b[0m\u001b[0m\n\u001b[1;32m   2559\u001b[0m     \u001b[1;32mdef\u001b[0m \u001b[0mreset\u001b[0m\u001b[1;33m(\u001b[0m\u001b[0mself\u001b[0m\u001b[1;33m)\u001b[0m\u001b[1;33m:\u001b[0m\u001b[1;33m\u001b[0m\u001b[0m\n",
      "\u001b[0;32mC:\\Users\\davidc\\AppData\\Local\\Continuum\\Anaconda3\\lib\\turtle.py\u001b[0m in \u001b[0;36m_update\u001b[0;34m(self)\u001b[0m\n\u001b[1;32m   2658\u001b[0m             \u001b[1;32mreturn\u001b[0m\u001b[1;33m\u001b[0m\u001b[0m\n\u001b[1;32m   2659\u001b[0m         \u001b[1;32melif\u001b[0m \u001b[0mscreen\u001b[0m\u001b[1;33m.\u001b[0m\u001b[0m_tracing\u001b[0m \u001b[1;33m==\u001b[0m \u001b[1;36m1\u001b[0m\u001b[1;33m:\u001b[0m\u001b[1;33m\u001b[0m\u001b[0m\n\u001b[0;32m-> 2660\u001b[0;31m             \u001b[0mself\u001b[0m\u001b[1;33m.\u001b[0m\u001b[0m_update_data\u001b[0m\u001b[1;33m(\u001b[0m\u001b[1;33m)\u001b[0m\u001b[1;33m\u001b[0m\u001b[0m\n\u001b[0m\u001b[1;32m   2661\u001b[0m             \u001b[0mself\u001b[0m\u001b[1;33m.\u001b[0m\u001b[0m_drawturtle\u001b[0m\u001b[1;33m(\u001b[0m\u001b[1;33m)\u001b[0m\u001b[1;33m\u001b[0m\u001b[0m\n\u001b[1;32m   2662\u001b[0m             \u001b[0mscreen\u001b[0m\u001b[1;33m.\u001b[0m\u001b[0m_update\u001b[0m\u001b[1;33m(\u001b[0m\u001b[1;33m)\u001b[0m                  \u001b[1;31m# TurtleScreenBase\u001b[0m\u001b[1;33m\u001b[0m\u001b[0m\n",
      "\u001b[0;32mC:\\Users\\davidc\\AppData\\Local\\Continuum\\Anaconda3\\lib\\turtle.py\u001b[0m in \u001b[0;36m_update_data\u001b[0;34m(self)\u001b[0m\n\u001b[1;32m   2644\u001b[0m \u001b[1;33m\u001b[0m\u001b[0m\n\u001b[1;32m   2645\u001b[0m     \u001b[1;32mdef\u001b[0m \u001b[0m_update_data\u001b[0m\u001b[1;33m(\u001b[0m\u001b[0mself\u001b[0m\u001b[1;33m)\u001b[0m\u001b[1;33m:\u001b[0m\u001b[1;33m\u001b[0m\u001b[0m\n\u001b[0;32m-> 2646\u001b[0;31m         \u001b[0mself\u001b[0m\u001b[1;33m.\u001b[0m\u001b[0mscreen\u001b[0m\u001b[1;33m.\u001b[0m\u001b[0m_incrementudc\u001b[0m\u001b[1;33m(\u001b[0m\u001b[1;33m)\u001b[0m\u001b[1;33m\u001b[0m\u001b[0m\n\u001b[0m\u001b[1;32m   2647\u001b[0m         \u001b[1;32mif\u001b[0m \u001b[0mself\u001b[0m\u001b[1;33m.\u001b[0m\u001b[0mscreen\u001b[0m\u001b[1;33m.\u001b[0m\u001b[0m_updatecounter\u001b[0m \u001b[1;33m!=\u001b[0m \u001b[1;36m0\u001b[0m\u001b[1;33m:\u001b[0m\u001b[1;33m\u001b[0m\u001b[0m\n\u001b[1;32m   2648\u001b[0m             \u001b[1;32mreturn\u001b[0m\u001b[1;33m\u001b[0m\u001b[0m\n",
      "\u001b[0;32mC:\\Users\\davidc\\AppData\\Local\\Continuum\\Anaconda3\\lib\\turtle.py\u001b[0m in \u001b[0;36m_incrementudc\u001b[0;34m(self)\u001b[0m\n\u001b[1;32m   1290\u001b[0m         \u001b[1;32mif\u001b[0m \u001b[1;32mnot\u001b[0m \u001b[0mTurtleScreen\u001b[0m\u001b[1;33m.\u001b[0m\u001b[0m_RUNNING\u001b[0m\u001b[1;33m:\u001b[0m\u001b[1;33m\u001b[0m\u001b[0m\n\u001b[1;32m   1291\u001b[0m             \u001b[0mTurtleScreen\u001b[0m\u001b[1;33m.\u001b[0m\u001b[0m_RUNNING\u001b[0m \u001b[1;33m=\u001b[0m \u001b[1;32mTrue\u001b[0m\u001b[1;33m\u001b[0m\u001b[0m\n\u001b[0;32m-> 1292\u001b[0;31m             \u001b[1;32mraise\u001b[0m \u001b[0mTerminator\u001b[0m\u001b[1;33m\u001b[0m\u001b[0m\n\u001b[0m\u001b[1;32m   1293\u001b[0m         \u001b[1;32mif\u001b[0m \u001b[0mself\u001b[0m\u001b[1;33m.\u001b[0m\u001b[0m_tracing\u001b[0m \u001b[1;33m>\u001b[0m \u001b[1;36m0\u001b[0m\u001b[1;33m:\u001b[0m\u001b[1;33m\u001b[0m\u001b[0m\n\u001b[1;32m   1294\u001b[0m             \u001b[0mself\u001b[0m\u001b[1;33m.\u001b[0m\u001b[0m_updatecounter\u001b[0m \u001b[1;33m+=\u001b[0m \u001b[1;36m1\u001b[0m\u001b[1;33m\u001b[0m\u001b[0m\n",
      "\u001b[0;31mTerminator\u001b[0m: "
     ]
    }
   ],
   "source": [
    " import turtle\n",
    " wn = turtle.Screen()         # Set up the window and its attributes\n",
    " wn.bgcolor(\"lightgreen\")\n",
    " wn.title(\"Tess & Alex\")\n",
    "\n",
    " tess = turtle.Turtle()       # Create tess and set some attributes\n",
    " tess.color(\"hotpink\")\n",
    " tess.pensize(5)\n",
    "\n",
    " alex = turtle.Turtle()       # Create alex\n",
    "\n",
    " tess.forward(80)             # Make tess draw equilateral triangle\n",
    " tess.left(120)\n",
    " tess.forward(80)\n",
    " tess.left(120)\n",
    " tess.forward(80)\n",
    " tess.left(120)               # Complete the triangle\n",
    "\n",
    " tess.right(180)              # Turn tess around\n",
    " tess.forward(80)             # Move her away from the origin\n",
    "\n",
    " alex.forward(50)             # Make alex draw a square\n",
    " alex.left(90)\n",
    " alex.forward(50)\n",
    " alex.left(90)\n",
    " alex.forward(50)\n",
    " alex.left(90)\n",
    " alex.forward(50)\n",
    " alex.left(90)\n",
    "\n",
    " wn.mainloop()"
   ]
  },
  {
   "cell_type": "markdown",
   "metadata": {},
   "source": [
    "# random position,sizes"
   ]
  },
  {
   "cell_type": "code",
   "execution_count": null,
   "metadata": {
    "collapsed": true
   },
   "outputs": [],
   "source": [
    "    leo.penup() #don't draw when turtle moves\n",
    "    leo.goto(-50, -50) \n",
    "    leo.pendown() #draw when turtle moves"
   ]
  },
  {
   "cell_type": "markdown",
   "metadata": {},
   "source": [
    "# Tile grid\n",
    "Taken from web"
   ]
  },
  {
   "cell_type": "code",
   "execution_count": 1,
   "metadata": {
    "collapsed": false
   },
   "outputs": [
    {
     "ename": "NameError",
     "evalue": "name 'share' is not defined",
     "output_type": "error",
     "traceback": [
      "\u001b[0;31m---------------------------------------------------------------------------\u001b[0m",
      "\u001b[0;31mNameError\u001b[0m                                 Traceback (most recent call last)",
      "\u001b[0;32m<ipython-input-1-ced6c07c55b1>\u001b[0m in \u001b[0;36m<module>\u001b[0;34m()\u001b[0m\n\u001b[1;32m     57\u001b[0m \u001b[1;33m\u001b[0m\u001b[0m\n\u001b[1;32m     58\u001b[0m \u001b[0mscreen\u001b[0m\u001b[1;33m.\u001b[0m\u001b[0mexitonclick\u001b[0m\u001b[1;33m(\u001b[0m\u001b[1;33m)\u001b[0m\u001b[1;33m\u001b[0m\u001b[0m\n\u001b[0;32m---> 59\u001b[0;31m \u001b[0mshare\u001b[0m\u001b[1;33m\u001b[0m\u001b[0m\n\u001b[0m\u001b[1;32m     60\u001b[0m \u001b[0medit\u001b[0m\u001b[1;33m\u001b[0m\u001b[0m\n\u001b[1;32m     61\u001b[0m \u001b[0medited\u001b[0m\u001b[1;33m\u001b[0m\u001b[0m\n",
      "\u001b[0;31mNameError\u001b[0m: name 'share' is not defined"
     ]
    }
   ],
   "source": [
    "from turtle import Turtle, Screen\n",
    "from random import randrange, choice\n",
    "from collections import namedtuple\n",
    "from math import ceil\n",
    "\n",
    "GRID = 15  # GRID by GRID of squares\n",
    "SIZE = 30  # each square is SIZE by SIZE\n",
    "\n",
    "INCREASE = 1.5  # how much to lighten the square's color\n",
    "WHITE = [255, 255, 255]  # color at which we stop changing square\n",
    "DELAY = 100  # time between calls to change() in milliseconds\n",
    "DARK = 32 # range (ceil(INCREASE) .. DARK - 1) of dark colors\n",
    "\n",
    "def change():\n",
    "    block = choice(blocks)\n",
    "    blocks.remove(block)\n",
    "\n",
    "    color = [min(int(primary * INCREASE), WHITE[i]) for i, primary in enumerate(block.color)]  # lighten color\n",
    "\n",
    "    turtle.color(color)\n",
    "    turtle.setposition(block.position)\n",
    "    turtle.clearstamp(block.stamp)\n",
    "\n",
    "    stamp = turtle.stamp()\n",
    "\n",
    "    if color != WHITE:\n",
    "        blocks.append(Block(block.position, color, stamp))  # not white yet so keep changing this block\n",
    "\n",
    "    if blocks:  # stop all changes if/when all blocks turn white\n",
    "        screen.ontimer(change, DELAY)\n",
    "\n",
    "HALF_SIZE = SIZE // 2\n",
    "\n",
    "screen = Screen()\n",
    "screen.colormode(WHITE[0])\n",
    "screen.register_shape(\"block\", ((HALF_SIZE, -HALF_SIZE), (HALF_SIZE, HALF_SIZE), (-HALF_SIZE, HALF_SIZE), (-HALF_SIZE, -HALF_SIZE)))\n",
    "screen.tracer(GRID ** 2)  # ala @PyNuts\n",
    "\n",
    "turtle = Turtle(shape=\"block\", visible=False)\n",
    "turtle.speed(\"fastest\")\n",
    "turtle.up()\n",
    "\n",
    "Block = namedtuple('Block', ['position', 'color', 'stamp'])\n",
    "\n",
    "blocks = list()\n",
    "\n",
    "HALF_GRID = GRID // 2\n",
    "\n",
    "for x in range(-HALF_GRID, HALF_GRID):\n",
    "    for y in range(-HALF_GRID, HALF_GRID):\n",
    "        turtle.goto(x * SIZE, y * SIZE)\n",
    "        color = [randrange(ceil(INCREASE), DARK) for primary in WHITE]\n",
    "        turtle.color(color)\n",
    "        blocks.append(Block(turtle.position(), color, turtle.stamp()))\n",
    "\n",
    "screen.ontimer(change, DELAY)\n",
    "\n",
    "screen.exitonclick()\n",
    "share\n",
    "edit\n",
    "edited "
   ]
  },
  {
   "cell_type": "code",
   "execution_count": null,
   "metadata": {
    "collapsed": true
   },
   "outputs": [],
   "source": []
  }
 ],
 "metadata": {
  "kernelspec": {
   "display_name": "Python 3",
   "language": "python",
   "name": "python3"
  },
  "language_info": {
   "codemirror_mode": {
    "name": "ipython",
    "version": 3
   },
   "file_extension": ".py",
   "mimetype": "text/x-python",
   "name": "python",
   "nbconvert_exporter": "python",
   "pygments_lexer": "ipython3",
   "version": "3.6.0"
  }
 },
 "nbformat": 4,
 "nbformat_minor": 2
}
