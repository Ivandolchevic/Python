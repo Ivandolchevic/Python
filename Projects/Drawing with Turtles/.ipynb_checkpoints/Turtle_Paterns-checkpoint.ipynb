{
 "cells": [
  {
   "cell_type": "markdown",
   "metadata": {},
   "source": [
    "# Turtles\n",
    "\n",
    "This project is based on the fantastic Turtles library. It involves using functions and loops to manipulate turtles commands to generate geometric patterns."
   ]
  },
  {
   "cell_type": "markdown",
   "metadata": {
    "collapsed": true
   },
   "source": [
    "# Draw a Simple Shape\n",
    "\n",
    "To start with we will define a function that takes 2 arguments size and sides and that uses a Turtle that generates a shape which has x sides of length y. We'll call our Turtle Leo (after Leo from Teenage Ninja Turtles) and Colour his lines Blue."
   ]
  },
  {
   "cell_type": "code",
   "execution_count": 1,
   "metadata": {
    "collapsed": false
   },
   "outputs": [
    {
     "name": "stderr",
     "output_type": "stream",
     "text": [
      "canvas2svg warning: Items of type 'image' are not supported.\n"
     ]
    }
   ],
   "source": [
    "def basic_shape(sides,size):\n",
    "    \"\"\"Generates a basic shape with turtles using 2 argument the number of sides and the length of each side\"\"\"\n",
    "    import turtle\n",
    "    import canvasvg\n",
    "\n",
    "    window=turtle.Screen()\n",
    "    window.bgcolor(\"white\")\n",
    "    leo = turtle.Turtle()\n",
    "    leo.color=(\"blue\")\n",
    "    angle=(360/sides)\n",
    "    \n",
    "    count=0\n",
    "    while count < sides:\n",
    "        leo.forward(size)\n",
    "        leo.right(angle)\n",
    "        count=count+1\n",
    "    canvasvg.saveall(\"images/basic.svg\", window._canvas)    \n",
    "    window.exitonclick()\n",
    "          \n",
    "basic_shape(5,100)\n"
   ]
  },
  {
   "cell_type": "markdown",
   "metadata": {},
   "source": [
    "# Repeat a simple shape\n",
    "\n",
    "Next lets try to rotate and repeat that simple shape, this time we will define a function that takes 3 arguments size ,sides and repeats and that uses a Turtle that generates a shape which has x sides of length y. We'll call our Turtle Leo (after Leo from Teenage Ninja Turtles) and Colour his lines Blue."
   ]
  },
  {
   "cell_type": "code",
   "execution_count": 1,
   "metadata": {
    "collapsed": false
   },
   "outputs": [
    {
     "name": "stderr",
     "output_type": "stream",
     "text": [
      "canvas2svg warning: Items of type 'image' are not supported.\n"
     ]
    }
   ],
   "source": [
    "def repeat_shape(sides,size,repeat):\n",
    "    \"\"\"Generates a repeating shape using turtles with 3 argument the number of sides, the length of each side and the number of repeats\"\"\"\n",
    "    import turtle\n",
    "    import canvasvg\n",
    "    \n",
    "    angle=(360/sides)\n",
    "    rotations=(360/repeat)\n",
    "    window=turtle.Screen()\n",
    "    window.bgcolor(\"white\")\n",
    "    leo = turtle.Turtle()\n",
    "    leo.color=(\"blue\")\n",
    "    angle=(360/sides)\n",
    "    \n",
    "    repeatcount=0\n",
    "    while repeatcount < repeat:\n",
    "        leo.penup() #don't draw when turtle moves\n",
    "        leo.left(rotations) \n",
    "        leo.pendown() #draw when turtle moves\n",
    "        \n",
    "        count=0\n",
    "        while count < sides:\n",
    "            leo.forward(size)\n",
    "            leo.right(angle)\n",
    "            count=count+1\n",
    "        repeatcount=repeatcount+1\n",
    "    canvasvg.saveall(\"images/repeatingshape.svg\", window._canvas)   \n",
    "    window.exitonclick()\n",
    "repeat_shape(7,100,14)"
   ]
  },
  {
   "cell_type": "markdown",
   "metadata": {},
   "source": [
    "# Offset Repeated Shapes\n",
    "\n",
    "Next lets take the repeated shape code and simply add a move in with the rotate between redrawing the shape. Our function will takes 4 arguments this time size ,sides, repeats now offset. The Turtle will generates a shape which has x sides of length y, it will repeat z times and each rotation will be off set by w."
   ]
  },
  {
   "cell_type": "code",
   "execution_count": 1,
   "metadata": {
    "collapsed": false
   },
   "outputs": [
    {
     "name": "stderr",
     "output_type": "stream",
     "text": [
      "canvas2svg warning: Items of type 'image' are not supported.\n"
     ]
    }
   ],
   "source": [
    "def offset_repeat(sides,size,repeat,offset):\n",
    "    \"\"\"Generates a repeating shape using turtles with 4 argument the number of sides, the length of each side, the number of repeats and the offset distance\"\"\"\n",
    "    import turtle\n",
    "    import canvasvg\n",
    "    \n",
    "    angle=(360/sides)\n",
    "    rotations=((360/repeat)-20)\n",
    "    window=turtle.Screen()\n",
    "    window.bgcolor(\"white\")\n",
    "    leo = turtle.Turtle()\n",
    "    leo.color(\"blue\")\n",
    "    angle=(360/sides)\n",
    "    \n",
    "    repeatcount=0\n",
    "    while repeatcount < (repeat):\n",
    "        leo.penup() #don't draw when turtle moves\n",
    "        leo.left(rotations)\n",
    "        leo.forward(offset) \n",
    "        leo.left(offset)\n",
    "        leo.pendown() #draw when turtle moves\n",
    "        leo.color(\"blue\")\n",
    "        count=0\n",
    "        while count < sides:\n",
    "            leo.forward(size)\n",
    "            leo.right(angle)\n",
    "            count=count+1\n",
    "        repeatcount=repeatcount+1\n",
    "    canvasvg.saveall(\"images/offsetrepeatingshape.svg\", window._canvas)    \n",
    "    window.exitonclick()\n",
    "          \n",
    "offset_repeat(5,100,10,20)"
   ]
  },
  {
   "cell_type": "markdown",
   "metadata": {},
   "source": [
    "# Drawing a Rainbow\n",
    "\n",
    "This time lets we are going to reuse much of the  very , this time we will define a function that takes 3 arguments size ,sides and repeats and that uses a Turtle that generates a shape which has x sides of length y. We'll call our Turtle Leo (after Leo from Teenage Ninja Turtles) and Colour his lines Blue."
   ]
  },
  {
   "cell_type": "code",
   "execution_count": 1,
   "metadata": {
    "collapsed": false
   },
   "outputs": [
    {
     "name": "stderr",
     "output_type": "stream",
     "text": [
      "canvas2svg warning: Items of type 'image' are not supported.\n"
     ]
    }
   ],
   "source": [
    "def rainbow_shape(sides,size,repeat):\n",
    "    \"\"\"Generates a repeating shape using turtles with 3 argument the number of sides, the length of each side, the number of repeats and the offset distance\"\"\"    \n",
    "    import turtle\n",
    "    import canvasvg\n",
    "    \n",
    "    colours=[\"red\",\"orangered\",\"orange\",\"gold\",\"yellow\",\"greenyellow\",\"green\",\"seagreen\",\"blue\",\"blueviolet\",\"purple\",\"violet\",\"violetred\"]\n",
    "    rot=len(colours)\n",
    "    angle=(360/sides)\n",
    "    rotations=(360/rot)\n",
    "    window=turtle.Screen()\n",
    "    window.bgcolor(\"white\")\n",
    "    leo = turtle.Turtle()\n",
    "    leo.color(\"blue\")\n",
    "    \n",
    "    for colour in colours:\n",
    "        leo.penup() #don't draw when turtle moves\n",
    "        leo.left(rotations)\n",
    "        leo.pendown() #draw when turtle moves\n",
    "        leo.color(colour)\n",
    "        count=0\n",
    "        while count < sides:\n",
    "            leo.forward(size)\n",
    "            leo.right(angle)\n",
    "            count=count+1\n",
    "    canvasvg.saveall(\"images/rainbowrepeatingshape.svg\", window._canvas)   \n",
    "    window.exitonclick()\n",
    "          \n",
    "rainbow_shape(7,100,14)"
   ]
  },
  {
   "cell_type": "markdown",
   "metadata": {},
   "source": [
    "# Colouring the Rainbow\n",
    "\n",
    "This time lets we are going to reuse the code from drawing a rainbow, but we'll fill the shapes."
   ]
  },
  {
   "cell_type": "code",
   "execution_count": 1,
   "metadata": {
    "collapsed": false
   },
   "outputs": [
    {
     "name": "stderr",
     "output_type": "stream",
     "text": [
      "canvas2svg warning: Items of type 'image' are not supported.\n"
     ]
    }
   ],
   "source": [
    "def rainbow_shape(sides,size,repeat):\n",
    "    \"\"\"Generates a repeating shape with a solid fill using turtles with 3 argument the number of sides, the length of each side and the number of repeats\"\"\"        \n",
    "    import turtle\n",
    "    import canvasvg\n",
    "    \n",
    "    colours=[\"red\",\"orangered\",\"orange\",\"gold\",\"yellow\",\"greenyellow\",\"green\",\"seagreen\",\"blue\",\"blueviolet\",\"purple\",\"violet\",\"violetred\"]\n",
    "    rot=len(colours)\n",
    "    angle=(360/sides)\n",
    "    rotations=(360/rot)\n",
    "    window=turtle.Screen()\n",
    "    window.bgcolor(\"white\")\n",
    "    leo = turtle.Turtle()\n",
    "    leo.color(\"blue\")\n",
    "    \n",
    "    for colour in colours:\n",
    "        leo.penup() #don't draw when turtle moves\n",
    "        leo.left(rotations)\n",
    "        leo.pendown() #draw when turtle moves\n",
    "        leo.color(colour)\n",
    "        count=0\n",
    "        leo.begin_fill()\n",
    "        while count < sides:\n",
    "            leo.forward(size)\n",
    "            leo.right(angle)\n",
    "            count=count+1\n",
    "        leo.end_fill()\n",
    "        canvas = window.getcanvas()\n",
    "    canvasvg.saveall(\"images/rainbowfill.svg\", window._canvas)   \n",
    "    window.exitonclick()\n",
    "          \n",
    "rainbow_shape(30,10,10)"
   ]
  },
  {
   "cell_type": "markdown",
   "metadata": {},
   "source": [
    "# A Hurd of Turtles\n",
    "\n",
    "simultaneously draw multiple shapes, using a number series generator to populate a list to create multiple turtles."
   ]
  },
  {
   "cell_type": "code",
   "execution_count": null,
   "metadata": {
    "collapsed": false
   },
   "outputs": [
    {
     "name": "stderr",
     "output_type": "stream",
     "text": [
      "canvas2svg warning: Items of type 'image' are not supported.\n"
     ]
    }
   ],
   "source": [
    "def cloned_shape(sides,size,repeat,separation):\n",
    "    \"\"\"Generates a pattern using multiple turtles, accepts arguments sides, size, number of repeats and separation distance \"\"\"    \n",
    "    import turtle\n",
    "    import canvasvg\n",
    "\n",
    "    # Create window\n",
    "    angle=(360/sides)\n",
    "    rotation=(360/repeat)\n",
    "    sep=90\n",
    "    window=turtle.Screen()\n",
    "    window.bgcolor(\"white\")\n",
    "    \n",
    "    # Create Turtles\n",
    "    leo = turtle.Turtle()\n",
    "    leo.color(\"blue\")\n",
    "    leo.penup()\n",
    "    leo.left(1*sep) \n",
    "    leo.forward(separation) \n",
    "    leo.pendown()\n",
    "    mickey = turtle.Turtle()\n",
    "    mickey.color(\"orange\")\n",
    "    mickey.penup()\n",
    "    mickey.left(2*sep) \n",
    "    mickey.forward(separation) \n",
    "    mickey.pendown()\n",
    "    raph = turtle.Turtle()\n",
    "    raph.color(\"red\")\n",
    "    raph.penup()    \n",
    "    raph.left(3*sep) \n",
    "    raph.forward(separation) \n",
    "    raph.pendown()  \n",
    "    donnie = turtle.Turtle()   \n",
    "    donnie.color(\"purple\")\n",
    "    donnie.penup() \n",
    "    donnie.left(4*sep) \n",
    "    donnie.forward(separation)  \n",
    "    donnie.pendown() \n",
    "    \n",
    "    # Create Patterns    \n",
    "    \n",
    "    repeatcount=0\n",
    "    while repeatcount < repeat:\n",
    "        leo.penup() \n",
    "        leo.left(rotation) \n",
    "        leo.pendown()\n",
    "        mickey.penup() \n",
    "        mickey.left(rotation) \n",
    "        mickey.pendown()\n",
    "        raph.penup() \n",
    "        raph.left(rotation) \n",
    "        raph.pendown()\n",
    "        donnie.penup() \n",
    "        donnie.left(rotation) \n",
    "        donnie.pendown()\n",
    "        repeatcount=repeatcount+1\n",
    "\n",
    "        count=0                \n",
    "        while count < sides:\n",
    "            leo.forward(size)\n",
    "            mickey.forward(size)\n",
    "            raph.forward(size)\n",
    "            donnie.forward(size)\n",
    "        \n",
    "            leo.right(angle)\n",
    "            mickey.right(angle)\n",
    "            raph.right(angle)\n",
    "            donnie.right(angle)\n",
    "        \n",
    "            count=count+1      \n",
    "\n",
    "    canvasvg.saveall(\"images/hurd.svg\", window._canvas)   \n",
    "    window.exitonclick()\n",
    "          \n",
    "cloned_shape(7,120,14,50)\n"
   ]
  },
  {
   "cell_type": "markdown",
   "metadata": {},
   "source": [
    "# Random Shapes\n",
    "\n",
    "In this version of our code we will use random numbers from the numpy library to define the starting position, line width, colour, number of sides and size of each shape."
   ]
  },
  {
   "cell_type": "code",
   "execution_count": 1,
   "metadata": {
    "collapsed": false
   },
   "outputs": [
    {
     "name": "stderr",
     "output_type": "stream",
     "text": [
      "canvas2svg warning: Items of type 'image' are not supported.\n"
     ]
    }
   ],
   "source": [
    "def random_shapes(repeat):\n",
    "    \"\"\"Generate a prety pattern using random numbers and turtles\"\"\"\n",
    "    import turtle\n",
    "    import canvasvg\n",
    "    import numpy as np\n",
    "    rotations=(360/repeat)\n",
    "    window=turtle.Screen()\n",
    "    window.bgcolor(\"white\")\n",
    "    colours=[\"red\",\"orangered\",\"orange\",\"gold\",\"yellow\",\"greenyellow\",\"green\",\"seagreen\",\"blue\",\"blueviolet\",\"purple\",\"violet\",\"violetred\"]\n",
    "    col=len(colours)\n",
    "    leo = turtle.Turtle()\n",
    "    repeatcount=0\n",
    "    while repeatcount < repeat:\n",
    "        leo.penup() #don't draw when turtle moves\n",
    "        xpos=np.random.randint(-300,150)\n",
    "        ypos=np.random.randint(-150,300)\n",
    "        leo.goto(xpos,ypos)\n",
    "        leo.pendown() #draw when turtle moves\n",
    "        \n",
    "        count=0\n",
    "        size=np.random.randint(50,100)\n",
    "        sides=np.random.randint(3,col)\n",
    "        angle=(360/sides)\n",
    "        leocol=((colours)[np.random.randint(0,len(colours))])\n",
    "        leo.color(leocol)\n",
    "        leo.width(np.random.randint(0.5,8))\n",
    "        while count < sides:\n",
    "            leo.forward(size)\n",
    "            leo.right(angle)\n",
    "            count=count+1\n",
    "        repeatcount=repeatcount+1\n",
    "    canvasvg.saveall(\"images/randomshapes.svg\", window._canvas)   \n",
    "    window.exitonclick()   \n",
    "          \n",
    "random_shapes(20)"
   ]
  },
  {
   "cell_type": "markdown",
   "metadata": {},
   "source": [
    "# Tile grid\n",
    "Taken from web"
   ]
  },
  {
   "cell_type": "code",
   "execution_count": 1,
   "metadata": {
    "collapsed": false
   },
   "outputs": [
    {
     "ename": "NameError",
     "evalue": "name 'share' is not defined",
     "output_type": "error",
     "traceback": [
      "\u001b[0;31m---------------------------------------------------------------------------\u001b[0m",
      "\u001b[0;31mNameError\u001b[0m                                 Traceback (most recent call last)",
      "\u001b[0;32m<ipython-input-1-ced6c07c55b1>\u001b[0m in \u001b[0;36m<module>\u001b[0;34m()\u001b[0m\n\u001b[1;32m     57\u001b[0m \u001b[0;34m\u001b[0m\u001b[0m\n\u001b[1;32m     58\u001b[0m \u001b[0mscreen\u001b[0m\u001b[0;34m.\u001b[0m\u001b[0mexitonclick\u001b[0m\u001b[0;34m(\u001b[0m\u001b[0;34m)\u001b[0m\u001b[0;34m\u001b[0m\u001b[0m\n\u001b[0;32m---> 59\u001b[0;31m \u001b[0mshare\u001b[0m\u001b[0;34m\u001b[0m\u001b[0m\n\u001b[0m\u001b[1;32m     60\u001b[0m \u001b[0medit\u001b[0m\u001b[0;34m\u001b[0m\u001b[0m\n\u001b[1;32m     61\u001b[0m \u001b[0medited\u001b[0m\u001b[0;34m\u001b[0m\u001b[0m\n",
      "\u001b[0;31mNameError\u001b[0m: name 'share' is not defined"
     ]
    }
   ],
   "source": [
    "from turtle import Turtle, Screen\n",
    "from random import randrange, choice\n",
    "from collections import namedtuple\n",
    "from math import ceil\n",
    "\n",
    "GRID = 15  # GRID by GRID of squares\n",
    "SIZE = 30  # each square is SIZE by SIZE\n",
    "\n",
    "INCREASE = 1.5  # how much to lighten the square's color\n",
    "WHITE = [255, 255, 255]  # color at which we stop changing square\n",
    "DELAY = 100  # time between calls to change() in milliseconds\n",
    "DARK = 32 # range (ceil(INCREASE) .. DARK - 1) of dark colors\n",
    "\n",
    "def change():\n",
    "    block = choice(blocks)\n",
    "    blocks.remove(block)\n",
    "\n",
    "    color = [min(int(primary * INCREASE), WHITE[i]) for i, primary in enumerate(block.color)]  # lighten color\n",
    "\n",
    "    turtle.color(color)\n",
    "    turtle.setposition(block.position)\n",
    "    turtle.clearstamp(block.stamp)\n",
    "\n",
    "    stamp = turtle.stamp()\n",
    "\n",
    "    if color != WHITE:\n",
    "        blocks.append(Block(block.position, color, stamp))  # not white yet so keep changing this block\n",
    "\n",
    "    if blocks:  # stop all changes if/when all blocks turn white\n",
    "        screen.ontimer(change, DELAY)\n",
    "\n",
    "HALF_SIZE = SIZE // 2\n",
    "\n",
    "screen = Screen()\n",
    "screen.colormode(WHITE[0])\n",
    "screen.register_shape(\"block\", ((HALF_SIZE, -HALF_SIZE), (HALF_SIZE, HALF_SIZE), (-HALF_SIZE, HALF_SIZE), (-HALF_SIZE, -HALF_SIZE)))\n",
    "screen.tracer(GRID ** 2)  # ala @PyNuts\n",
    "\n",
    "turtle = Turtle(shape=\"block\", visible=False)\n",
    "turtle.speed(\"fastest\")\n",
    "turtle.up()\n",
    "\n",
    "Block = namedtuple('Block', ['position', 'color', 'stamp'])\n",
    "\n",
    "blocks = list()\n",
    "\n",
    "HALF_GRID = GRID // 2\n",
    "\n",
    "for x in range(-HALF_GRID, HALF_GRID):\n",
    "    for y in range(-HALF_GRID, HALF_GRID):\n",
    "        turtle.goto(x * SIZE, y * SIZE)\n",
    "        color = [randrange(ceil(INCREASE), DARK) for primary in WHITE]\n",
    "        turtle.color(color)\n",
    "        blocks.append(Block(turtle.position(), color, turtle.stamp()))\n",
    "\n",
    "screen.ontimer(change, DELAY)\n",
    "\n",
    "screen.exitonclick()\n",
    "share\n",
    "edit\n",
    "edited "
   ]
  },
  {
   "cell_type": "code",
   "execution_count": null,
   "metadata": {
    "collapsed": true
   },
   "outputs": [],
   "source": []
  }
 ],
 "metadata": {
  "kernelspec": {
   "display_name": "Python 3",
   "language": "python",
   "name": "python3"
  },
  "language_info": {
   "codemirror_mode": {
    "name": "ipython",
    "version": 3
   },
   "file_extension": ".py",
   "mimetype": "text/x-python",
   "name": "python",
   "nbconvert_exporter": "python",
   "pygments_lexer": "ipython3",
   "version": "3.6.0"
  }
 },
 "nbformat": 4,
 "nbformat_minor": 2
}
