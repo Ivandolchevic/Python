{
 "cells": [
  {
   "cell_type": "markdown",
   "metadata": {
    "collapsed": true
   },
   "source": [
    "# Draw a Simple Shape\n",
    "\n",
    "To start with we will define a function that takes 2 arguments size and sides and that uses a Turtle that generates a shape which has x sides of length y. We'll call our Turtle Leo (after Leo from Teenage Ninja Turtles) and Colour his lines Blue."
   ]
  },
  {
   "cell_type": "code",
   "execution_count": 1,
   "metadata": {
    "collapsed": false
   },
   "outputs": [
    {
     "ename": "SystemExit",
     "evalue": "0",
     "output_type": "error",
     "traceback": [
      "An exception has occurred, use %tb to see the full traceback.\n",
      "\u001b[0;31mSystemExit\u001b[0m\u001b[0;31m:\u001b[0m 0\n"
     ]
    },
    {
     "name": "stderr",
     "output_type": "stream",
     "text": [
      "/anaconda/lib/python3.6/site-packages/IPython/core/interactiveshell.py:2889: UserWarning: To exit: use 'exit', 'quit', or Ctrl-D.\n",
      "  warn(\"To exit: use 'exit', 'quit', or Ctrl-D.\", stacklevel=1)\n"
     ]
    }
   ],
   "source": [
    "import turtle\n",
    "\n",
    "def draw_shape(size,sides):\n",
    "    window=turtle.Screen()\n",
    "    window.bgcolor(\"white\")\n",
    "    leo = turtle.Turtle()\n",
    "    leo.color=(\"blue\")\n",
    "    angle=(360/sides)\n",
    "    \n",
    "    count=0\n",
    "    while count < sides:\n",
    "        leo.forward(size)\n",
    "        leo.right(angle)\n",
    "        count=count+1\n",
    "    window.exitonclick()\n",
    "          \n",
    "draw_shape(100,5)\n"
   ]
  },
  {
   "cell_type": "markdown",
   "metadata": {},
   "source": [
    "# Draw a repeated Simple Shape\n",
    "\n",
    "Next lets try to rotate and repeat that simple shape, this time we will define a function that takes 3 arguments size ,sides and repeats and that uses a Turtle that generates a shape which has x sides of length y. We'll call our Turtle Leo (after Leo from Teenage Ninja Turtles) and Colour his lines Blue."
   ]
  },
  {
   "cell_type": "code",
   "execution_count": 1,
   "metadata": {
    "collapsed": false
   },
   "outputs": [
    {
     "ename": "SystemExit",
     "evalue": "0",
     "output_type": "error",
     "traceback": [
      "An exception has occurred, use %tb to see the full traceback.\n",
      "\u001b[0;31mSystemExit\u001b[0m\u001b[0;31m:\u001b[0m 0\n"
     ]
    },
    {
     "name": "stderr",
     "output_type": "stream",
     "text": [
      "/anaconda/lib/python3.6/site-packages/IPython/core/interactiveshell.py:2889: UserWarning: To exit: use 'exit', 'quit', or Ctrl-D.\n",
      "  warn(\"To exit: use 'exit', 'quit', or Ctrl-D.\", stacklevel=1)\n"
     ]
    }
   ],
   "source": [
    "import turtle\n",
    "\n",
    "def repeat_shape(size,sides,repeat):\n",
    "    angle=(360/sides)\n",
    "    rotations=(360/repeat)\n",
    "    window=turtle.Screen()\n",
    "    window.bgcolor(\"white\")\n",
    "    leo = turtle.Turtle()\n",
    "    leo.color=(\"blue\")\n",
    "    angle=(360/sides)\n",
    "    \n",
    "    repeatcount=0\n",
    "    while repeatcount < repeat:\n",
    "        leo.penup() #don't draw when turtle moves\n",
    "        leo.left(rotations) \n",
    "        leo.pendown() #draw when turtle moves\n",
    "        \n",
    "        count=0\n",
    "        while count < sides:\n",
    "            leo.forward(size)\n",
    "            leo.right(angle)\n",
    "            count=count+1\n",
    "        repeatcount=repeatcount+1\n",
    "            \n",
    "    window.exitonclick()\n",
    "          \n",
    "repeat_shape(100,5,10)\n",
    "\n",
    "canvas = window.getcanvas()\n",
    "canvas.postscript(file='/Images/RepeatedShape.ps')"
   ]
  },
  {
   "cell_type": "code",
   "execution_count": null,
   "metadata": {
    "collapsed": true
   },
   "outputs": [],
   "source": [
    "    leo.penup() #don't draw when turtle moves\n",
    "    leo.goto(-50, -50) \n",
    "    leo.pendown() #draw when turtle moves"
   ]
  }
 ],
 "metadata": {
  "kernelspec": {
   "display_name": "Python 3",
   "language": "python",
   "name": "python3"
  },
  "language_info": {
   "codemirror_mode": {
    "name": "ipython",
    "version": 3
   },
   "file_extension": ".py",
   "mimetype": "text/x-python",
   "name": "python",
   "nbconvert_exporter": "python",
   "pygments_lexer": "ipython3",
   "version": "3.6.0"
  }
 },
 "nbformat": 4,
 "nbformat_minor": 2
}
