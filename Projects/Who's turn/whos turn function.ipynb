{
 "cells": [
  {
   "cell_type": "markdown",
   "metadata": {},
   "source": [
    "# Who's Turn is it to Make the coffee.\n",
    "This little project is designed to see if i can put what we've learn so far to use. At this time I am spending a week in the Lake district in a house with my family. There are 5 adults and 2 children this project makes a really simple function to decide who makes the coffee/tea next."
   ]
  },
  {
   "cell_type": "code",
   "execution_count": 8,
   "metadata": {
    "collapsed": false
   },
   "outputs": [],
   "source": [
    "def whosturn() :\n",
    "    \"\"\"Who's turn is to make the coffee next\"\"\"\n",
    "    import numpy as np\n",
    "    tuple=(\"David\",\"Lucinda\",\"Chris\",\"Katharine\",\"Charlie\")\n",
    "    random=np.random.randint(0,4)\n",
    "    print(\"Its \"+ ((tuple)[random])+\"'s turn\")\n"
   ]
  },
  {
   "cell_type": "code",
   "execution_count": 17,
   "metadata": {
    "collapsed": false
   },
   "outputs": [
    {
     "name": "stdout",
     "output_type": "stream",
     "text": [
      "Its lucinda's turn\n"
     ]
    }
   ],
   "source": [
    "whosturn()\n"
   ]
  },
  {
   "cell_type": "markdown",
   "metadata": {},
   "source": [
    "Hannah and Thomas wanded to be included, but they can't boil the kettle, so we had to add an if / else statement to handle that. Like juice instead."
   ]
  },
  {
   "cell_type": "code",
   "execution_count": 114,
   "metadata": {
    "collapsed": false
   },
   "outputs": [],
   "source": [
    "def whosturn() :\n",
    "    \"\"\"Who's turn is to make the coffee next\"\"\"\n",
    "    import numpy as np\n",
    "    tuple=(\"David\",\"Lucinda\",\"Chris\",\"Katharine\",\"Grandad\",\"Thomas\",\"Hannah\",\"Thomas\")\n",
    "    random=np.random.randint(0,7)\n",
    "    if random < 5 :\n",
    "        print(\"Its \"+ ((tuple)[random])+\"'s turn\")\n",
    "    else :\n",
    "        print(\"Looks like were out of luck its \" + ((tuple)[random]) + \"'s turn so it'll be juice\")\n",
    "    "
   ]
  },
  {
   "cell_type": "code",
   "execution_count": 94,
   "metadata": {
    "collapsed": false
   },
   "outputs": [
    {
     "name": "stdout",
     "output_type": "stream",
     "text": [
      "Its Lucinda's turn\n"
     ]
    }
   ],
   "source": [
    "whosturn()"
   ]
  },
  {
   "cell_type": "code",
   "execution_count": 104,
   "metadata": {
    "collapsed": false
   },
   "outputs": [
    {
     "name": "stdout",
     "output_type": "stream",
     "text": [
      "Looks like were out of luck its Thomas's turn so it'll be juice\n"
     ]
    }
   ],
   "source": [
    "def whosturn() :\n",
    "    \"\"\"Who's turn is to make the coffee next\"\"\"\n",
    "    import numpy as np\n",
    "    tuple=(\"David\",\"Lucinda\",\"Chris\",\"Katharine\",\"Grandad\",\"Thomas\",\"Hannah\",\"Thomas\")\n",
    "    random=np.random.randint(0,7)\n",
    "    if random < 5 :\n",
    "        print(\"Its \"+ ((tuple)[random])+\"'s turn\")\n",
    "    else :\n",
    "        print(\"Looks like were out of luck its \" + ((tuple)[random]) + \"'s turn so it'll be juice\")\n",
    "whosturn()\n"
   ]
  },
  {
   "cell_type": "markdown",
   "metadata": {},
   "source": [
    "Now that we have teas and coffee's we need to decide what we should do next. Thomas can up with a list and we madee a function to do that, this time we used the len method to get the number of options because we might add new things to do and don't want to keep updating the code."
   ]
  },
  {
   "cell_type": "code",
   "execution_count": 112,
   "metadata": {
    "collapsed": false
   },
   "outputs": [
    {
     "name": "stdout",
     "output_type": "stream",
     "text": [
      "We should Play with Thomas's Playmobil toys!\n"
     ]
    }
   ],
   "source": [
    "def whatshallwedo() :\n",
    "    \"\"\"what should we do today?\"\"\"\n",
    "    import numpy as np\n",
    "    tuple=(\"Make Pancakes\", \"Play Monopoly\",\"Play with Thomas's Playmobil toys\",\"Light the fire (at night)\")\n",
    "    random=np.random.randint(0,(len(tuple)))\n",
    "    print(\"We should \" + ((tuple)[random]) + \"!\")\n",
    "\n",
    "whatshallwedo()"
   ]
  },
  {
   "cell_type": "code",
   "execution_count": null,
   "metadata": {
    "collapsed": true
   },
   "outputs": [],
   "source": []
  }
 ],
 "metadata": {
  "kernelspec": {
   "display_name": "Python 3",
   "language": "python",
   "name": "python3"
  },
  "language_info": {
   "codemirror_mode": {
    "name": "ipython",
    "version": 3
   },
   "file_extension": ".py",
   "mimetype": "text/x-python",
   "name": "python",
   "nbconvert_exporter": "python",
   "pygments_lexer": "ipython3",
   "version": "3.6.0"
  }
 },
 "nbformat": 4,
 "nbformat_minor": 2
}
