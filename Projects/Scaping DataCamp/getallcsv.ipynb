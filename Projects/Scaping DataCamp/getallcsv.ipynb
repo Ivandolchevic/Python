{
 "cells": [
  {
   "cell_type": "markdown",
   "metadata": {},
   "source": [
    "# Scraping csv files from DataCamp\n",
    "\n",
    "Over time I've seen a lot of requests for getting all of the dataset from DataCamp in 1 eazy place. This project uses Beautiful Soup and regex to find all of the .csv files on the DataCamp site and download them to a local folder. It is possible not the most effecient or elegant way to do it but it seems to work."
   ]
  },
  {
   "cell_type": "markdown",
   "metadata": {},
   "source": [
    "### get the links to courses\n",
    "\n",
    "Initially we will use Beautiful Soup to look at the courses folder on datacamp and bring back the html text. It will then extract all of the a_tags to find the links containing courses/ extract the href then to list courses."
   ]
  },
  {
   "cell_type": "code",
   "execution_count": 103,
   "metadata": {},
   "outputs": [
    {
     "name": "stdout",
     "output_type": "stream",
     "text": [
      "['/courses/intro-to-python-for-data-science', '/courses/free-introduction-to-r', '/courses/intro-to-sql-for-data-science', '/courses/deep-learning-in-python', '/courses/intermediate-r', '/courses/joining-data-in-postgresql', '/courses/intro-to-python-for-data-science', '/courses/intro-to-python-for-data-science', '/courses/free-introduction-to-r', '/courses/free-introduction-to-r', '/courses/intro-to-sql-for-data-science', '/courses/intro-to-sql-for-data-science', '/courses/intermediate-python-for-data-science', '/courses/intermediate-python-for-data-science', '/courses/intermediate-r', '/courses/intermediate-r', '/courses/supervised-learning-with-scikit-learn', '/courses/supervised-learning-with-scikit-learn', '/courses/introduction-to-git-for-data-science', '/courses/introduction-to-git-for-data-science', '/courses/python-data-science-toolbox-part-1', '/courses/python-data-science-toolbox-part-1', '/courses/deep-learning-in-python', '/courses/deep-learning-in-python', '/courses/all', '/courses/topic:programming', '/courses/topic:importing_and_cleaning_data', '/courses/topic:data_manipulation', '/courses/topic:data_visualization', '/courses/topic:probablity_and_statistics', '/courses/topic:machine_learning', '/courses/topic:applied_finance', '/courses/topic:reporting', '/courses/topic:case_studies', '/courses/topic:other', '/courses/tech:r', '/courses/tech:python', '/courses/tech:sql', '/courses/tech:git', '/courses/tech:shell']\n"
     ]
    }
   ],
   "source": [
    "# Import packages\n",
    "import requests\n",
    "from bs4 import BeautifulSoup\n",
    "import re\n",
    "\n",
    "# Specify url\n",
    "url = 'https://www.datacamp.com/courses'\n",
    "# Package the request, send the request and catch the response: r\n",
    "r = requests.get(url)\n",
    "# Extracts the response as html: html_doc\n",
    "html_doc = r.text\n",
    "\n",
    "# create a BeautifulSoup object from the HTML: soup\n",
    "soup = BeautifulSoup(html_doc, \"lxml\")\n",
    "\n",
    "# Find all 'a' tags (which define hyperlinks): a_tags\n",
    "a_tags=soup.find_all('a')\n",
    "\n",
    "# Extract the /courses pages\n",
    "courses=[]\n",
    "pattern = re.compile(\"/courses//*\")\n",
    "for link in a_tags:\n",
    "    match = re.findall(pattern, str(link))\n",
    "    if match:\n",
    "        courses.append(link.get('href'))  \n",
    "# print(courses) "
   ]
  },
  {
   "cell_type": "markdown",
   "metadata": {},
   "source": [
    "### get all the links from courses to .csv files\n",
    "\n",
    "We pretty much repeat the previous steps, except this time instead of looking at one page we look at the list of course pages we created in the first step. "
   ]
  },
  {
   "cell_type": "code",
   "execution_count": null,
   "metadata": {
    "collapsed": true
   },
   "outputs": [],
   "source": [
    "csv=[]\n",
    "for course in courses:    \n",
    "    # print(course) \n",
    "    \n",
    "    # Specify url\n",
    "    url = \"https://datacamp.com\"+course    \n",
    "    # Package the request, send the request and catch the response: r\n",
    "    r = requests.get(url)\n",
    "    # Extracts the response as html: html_doc\n",
    "    html_doc = r.text\n",
    "\n",
    "    # create a BeautifulSoup object from the HTML: soup\n",
    "    soup = BeautifulSoup(html_doc, \"lxml\")\n",
    "    \n",
    "    # Find all 'a' tags (which define hyperlinks): a_tags\n",
    "    a_tags1=soup.find_all('a')\n",
    "    \n",
    "    pattern = re.compile(\"csv/*\")    \n",
    "    # append the URLs to list\n",
    "    for link in a_tags1:\n",
    "        match = re.findall(pattern, str(link))\n",
    "        if match:\n",
    "            csv.append(link.get('href'))\n",
    "print(csv)"
   ]
  },
  {
   "cell_type": "markdown",
   "metadata": {},
   "source": [
    "### get the csv's  and save locally\n",
    "\n",
    "We are going to use pandas pd.read_csv() and df.to_csv() methods to take the file and save it to a local folder. We'll also create a text file to document what we've done."
   ]
  },
  {
   "cell_type": "code",
   "execution_count": 94,
   "metadata": {
    "collapsed": true
   },
   "outputs": [],
   "source": [
    "import pandas as pd\n",
    "codebook='Data/Csv/codebook.txt'\n",
    "\n",
    "for file in csv:\n",
    "    y=file.split('/')\n",
    "    destination='Data/Csv/'+(y[-1])\n",
    "    df=pd.read_csv(file)\n",
    "    df.to_csv(destination)\n",
    "\n",
    "    with open(codebook, \"a\") as f:\n",
    "        f.write(\"source : \" + file)"
   ]
  },
  {
   "cell_type": "markdown",
   "metadata": {},
   "source": [
    "### Putting it all together\n",
    "\n",
    "In this notebook i split out each element of the process so that i could ensure each element work before moving onto the next. Now i will but it all into a single snipet of scripy that i ca save as a .py file to share and run when required."
   ]
  },
  {
   "cell_type": "code",
   "execution_count": 2,
   "metadata": {},
   "outputs": [
    {
     "name": "stdout",
     "output_type": "stream",
     "text": [
      "37 csv files collected!\n"
     ]
    }
   ],
   "source": [
    "### A python script to collect all of the .csv files from DataCamp ###\n",
    "### and copy them to a folder named Data in the currect directory. ###\n",
    "### Created 3/3/18 by David coxon ###\n",
    "\n",
    "# Import packages\n",
    "import requests\n",
    "from bs4 import BeautifulSoup\n",
    "import re\n",
    "import datetime\n",
    "import pandas as pd\n",
    "\n",
    "codebook='Data/Csv/importedcsv.txt'\n",
    "now = datetime.datetime.now()\n",
    "now = str(now)\n",
    "# Specify url\n",
    "url = 'https://www.datacamp.com/courses'\n",
    "# Package the request, send the request and catch the response: r\n",
    "r = requests.get(url)\n",
    "html_doc = r.text\n",
    "\n",
    "# create a BeautifulSoup object from the HTML: soup\n",
    "soup = BeautifulSoup(html_doc, \"lxml\")\n",
    "\n",
    "# Find all 'a' tags (which define hyperlinks): a_tags\n",
    "a_tags=soup.find_all('a')\n",
    "\n",
    "# Extract the /courses pages\n",
    "courses=[]\n",
    "pattern = re.compile(\"/courses//*\")\n",
    "for link in a_tags:\n",
    "    match = re.findall(pattern, str(link))\n",
    "    if match:\n",
    "        courses.append(link.get('href'))   \n",
    "\n",
    "# iterate over list of courses getting links to csv files\n",
    "csv=[]     \n",
    "for course in courses:    \n",
    "    \n",
    "    # Specify url\n",
    "    url = \"https://datacamp.com\"+course    \n",
    "    # Package the request, send the request and catch the response: r\n",
    "    r = requests.get(url)\n",
    "    # Extracts the response as html: html_doc\n",
    "    html_doc = r.text\n",
    "\n",
    "    # create a BeautifulSoup object from the HTML: soup\n",
    "    soup = BeautifulSoup(html_doc, \"lxml\")\n",
    "    \n",
    "    # Find all 'a' tags (which define hyperlinks): a_tags\n",
    "    a_tags1=soup.find_all('a')\n",
    "\n",
    "    # append the URLs to csv list\n",
    "    pattern = re.compile(\"csv/*\")        \n",
    "    for link in a_tags1:\n",
    "        match = re.findall(pattern, str(link))\n",
    "        if match:\n",
    "            csv.append(link.get('href')) \n",
    "\n",
    "# open Csv files and copy to Local device           \n",
    "for file in csv:\n",
    "    y=file.split('/')\n",
    "    destination='Data/Csv/'+(y[-1])\n",
    "    df=pd.read_csv(file)\n",
    "    df.to_csv(destination)\n",
    "\n",
    "    # Document which files were collected\n",
    "    with open(codebook, \"a\") as f:\n",
    "        f.write(\"\\nsource : \" + file + \" dated collected : \" + now)\n",
    "print(str(len(csv)) + \" csv files checked!\")"
   ]
  },
  {
   "cell_type": "code",
   "execution_count": null,
   "metadata": {
    "collapsed": true
   },
   "outputs": [],
   "source": []
  }
 ],
 "metadata": {
  "kernelspec": {
   "display_name": "Python 3",
   "language": "python",
   "name": "python3"
  },
  "language_info": {
   "codemirror_mode": {
    "name": "ipython",
    "version": 3
   },
   "file_extension": ".py",
   "mimetype": "text/x-python",
   "name": "python",
   "nbconvert_exporter": "python",
   "pygments_lexer": "ipython3",
   "version": "3.6.0"
  }
 },
 "nbformat": 4,
 "nbformat_minor": 2
}
