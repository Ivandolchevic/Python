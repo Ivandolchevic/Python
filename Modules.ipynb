{
 "cells": [
  {
   "cell_type": "markdown",
   "metadata": {},
   "source": [
    "# Modules"
   ]
  },
  {
   "cell_type": "markdown",
   "metadata": {},
   "source": [
    "Numpy np\n",
    "\n",
    "module that handles numbers\n",
    "\n",
    "\n",
    "Pandas pd\n",
    "\n",
    "module used with dataframes\n",
    "\n",
    "\n",
    "Matplotlib plt\n",
    "\n",
    "Module deals with plotting graphs\n",
    "\n",
    "\n",
    "Seaborn as sns\n",
    "\n",
    "Module deals with statistical data virtualization\n",
    "\n",
    "\n",
    "Json\n",
    "\n",
    "Module deals with processing api's and json\n",
    "\n",
    "\n",
    "tweepy\n",
    "\n",
    "Module deals with twitter api"
   ]
  }
 ],
 "metadata": {
  "kernelspec": {
   "display_name": "Python 3",
   "language": "python",
   "name": "python3"
  },
  "language_info": {
   "codemirror_mode": {
    "name": "ipython",
    "version": 3
   },
   "file_extension": ".py",
   "mimetype": "text/x-python",
   "name": "python",
   "nbconvert_exporter": "python",
   "pygments_lexer": "ipython3",
   "version": "3.6.0"
  }
 },
 "nbformat": 4,
 "nbformat_minor": 2
}
